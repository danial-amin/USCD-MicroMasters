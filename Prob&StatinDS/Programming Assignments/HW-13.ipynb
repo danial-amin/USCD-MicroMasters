{
  "nbformat": 4,
  "nbformat_minor": 0,
  "metadata": {
    "colab": {
      "provenance": [],
      "authorship_tag": "ABX9TyNcewWG4UacoL2lLGO/z0x6",
      "include_colab_link": true
    },
    "kernelspec": {
      "name": "python3",
      "display_name": "Python 3"
    },
    "language_info": {
      "name": "python"
    }
  },
  "cells": [
    {
      "cell_type": "markdown",
      "metadata": {
        "id": "view-in-github",
        "colab_type": "text"
      },
      "source": [
        "<a href=\"https://colab.research.google.com/github/danial-amin/USCD-MicroMasters/blob/main/Prob%26StatinDS/Programming%20Assignments/HW-13.ipynb\" target=\"_parent\"><img src=\"https://colab.research.google.com/assets/colab-badge.svg\" alt=\"Open In Colab\"/></a>"
      ]
    },
    {
      "cell_type": "code",
      "execution_count": 5,
      "metadata": {
        "id": "21e4ILSsPfXt"
      },
      "outputs": [],
      "source": [
        "import pandas as pd\n",
        "import scipy.stats as ss\n",
        "import matplotlib.pyplot as plt\n",
        "import numpy as np"
      ]
    },
    {
      "cell_type": "code",
      "source": [
        "df = pd.read_csv('./temperature.csv')\n",
        "df1 = df.loc[:, ['San Diego']]\n",
        "\n",
        "all_temperature = df1.values\n",
        "all_temperature = all_temperature[~np.isnan(all_temperature)]\n",
        "\n",
        "plt.hist(all_temperature, bins = 100)\n",
        "plt.show()"
      ],
      "metadata": {
        "colab": {
          "base_uri": "https://localhost:8080/",
          "height": 265
        },
        "id": "X5imqa87PsAM",
        "outputId": "45f9fce5-3db7-412d-d0d9-eb16250ca57a"
      },
      "execution_count": 6,
      "outputs": [
        {
          "output_type": "display_data",
          "data": {
            "text/plain": [
              "<Figure size 432x288 with 1 Axes>"
            ],
            "image/png": "[encoded data removed]"
          },
          "metadata": {
            "needs_background": "light"
          }
        }
      ]
    },
    {
      "cell_type": "code",
      "source": [
        "df['datetime']=pd.to_datetime(df['datetime'])"
      ],
      "metadata": {
        "id": "ZCrLkDBUWDvO"
      },
      "execution_count": 7,
      "outputs": []
    },
    {
      "cell_type": "code",
      "source": [
        "df['year'] = pd.DatetimeIndex(df['datetime']).year"
      ],
      "metadata": {
        "id": "-BXBTJb-XKAi"
      },
      "execution_count": 8,
      "outputs": []
    },
    {
      "cell_type": "code",
      "source": [
        "df_2016=df[df[\"year\"]==2016]"
      ],
      "metadata": {
        "id": "XhLuXm4OfJgU"
      },
      "execution_count": 10,
      "outputs": []
    },
    {
      "cell_type": "code",
      "source": [
        "spec_temperature = df_2016.loc[:, ['San Diego']].values\n",
        "spec_temperature = spec_temperature[~np.isnan(spec_temperature)]\n",
        "\n",
        "mu_spec = np.mean(spec_temperature)\n",
        "mu_spec_in_C=mu_spec-273.15\n",
        "\n",
        "print('The sample annual average temp for year 2016 in K is {}'.format(mu_spec))\n",
        "print('The sample average temp for year 2016 in C is {}'.format(mu_spec_in_C))"
      ],
      "metadata": {
        "id": "5Q_4W_jqVEEp",
        "outputId": "6979740f-201b-4913-f428-43d23504c64f",
        "colab": {
          "base_uri": "https://localhost:8080/"
        }
      },
      "execution_count": 11,
      "outputs": [
        {
          "output_type": "stream",
          "name": "stdout",
          "text": [
            "The sample annual average temp for year 2016 in K is 290.7472708967425\n",
            "The sample average temp for year 2016 in C is 17.597270896742543\n"
          ]
        }
      ]
    },
    {
      "cell_type": "code",
      "source": [
        "#Hypothesis Testing\n",
        "#Ho=> mu<=18\n",
        "#H1=> mu>18\n",
        "z_val=(mu_spec_in_C-18)/(np.std(spec_temperature)/np.sqrt(len(spec_temperature)))\n",
        "print(z_val<0.005)"
      ],
      "metadata": {
        "id": "RmD22yG2gRCq",
        "outputId": "f3619d26-2342-45b8-8d7a-e3c8ff5152a4",
        "colab": {
          "base_uri": "https://localhost:8080/"
        }
      },
      "execution_count": 19,
      "outputs": [
        {
          "output_type": "stream",
          "name": "stdout",
          "text": [
            "True\n"
          ]
        }
      ]
    },
    {
      "cell_type": "code",
      "source": [],
      "metadata": {
        "id": "erHeK0WChMHI"
      },
      "execution_count": null,
      "outputs": []
    }
  ]
}