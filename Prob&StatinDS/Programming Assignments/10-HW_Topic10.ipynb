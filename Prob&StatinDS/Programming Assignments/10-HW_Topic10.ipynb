{
  "cells": [
    {
      "cell_type": "markdown",
      "metadata": {
        "id": "view-in-github",
        "colab_type": "text"
      },
      "source": [
        "<a href=\"https://colab.research.google.com/github/danial-amin/USCD-MicroMasters/blob/main/Prob%26StatinDS/Programming%20Assignments/10-HW_Topic10.ipynb\" target=\"_parent\"><img src=\"https://colab.research.google.com/assets/colab-badge.svg\" alt=\"Open In Colab\"/></a>"
      ]
    },
    {
      "cell_type": "markdown",
      "metadata": {
        "id": "Q9bHzRxFR4qG"
      },
      "source": [
        "<font size=\"4\" style=\"color:red;\"> **IMPORTANT: ** When submitting this homework notebook, please modify only the cells that start with:</font>\n",
        "\n",
        "```python\n",
        "# modify this cell\n",
        "```"
      ]
    },
    {
      "cell_type": "markdown",
      "metadata": {
        "id": "2YvqjTJ1R4qQ"
      },
      "source": [
        "**Note:**  notice that no packages are imported for this assignment. This is because you do not need any python packages."
      ]
    },
    {
      "cell_type": "markdown",
      "metadata": {
        "id": "DK7665RUR4qQ"
      },
      "source": [
        "# Probability Inequalities\n"
      ]
    },
    {
      "cell_type": "markdown",
      "metadata": {
        "id": "FxWcQX10R4qR"
      },
      "source": [
        "For the binomial distribution $X\\sim B_{p,n}$ with mean $\\mu=np$ and variance $\\sigma^2=np(1-p)$, \n",
        "we would like to upper bound the probability $P(X\\ge c\\cdot \\mu)$ for $c\\ge1$. \n",
        "The lectures introduced three bounds:\n",
        "\n",
        "Markov: $$P(X\\ge \\alpha\\mu)\\le \\frac{1}{\\alpha},\\quad\\quad\\forall \\alpha\\ge 1,$$\n",
        "Chebyshev: $$P(|X-\\mu|\\ge \\alpha\\sigma)\\le \\frac{1}{\\alpha^2},\\quad\\quad \\forall \\alpha\\ge 1,$$\n",
        "Note that, while double-sided, this inequality also bounds $P(X\\ge\\mu+\\alpha)$\n",
        "$$P(X\\ge \\mu+\\alpha\\sigma)\\le P(|X-\\mu|\\ge \\alpha\\sigma)\\le \\frac{1}{\\alpha^2},$$\n",
        "Chernoff: $$P(X\\ge (1+\\delta)\\mu)\\le e^{-\\frac{\\delta^2}{2+\\delta}\\mu},\\quad\\quad\\forall \\delta\\ge0.$$\n"
      ]
    },
    {
      "cell_type": "code",
      "execution_count": 1,
      "metadata": {
        "collapsed": true,
        "id": "IqZmjbEQR4qR"
      },
      "outputs": [],
      "source": [
        "from math import exp"
      ]
    },
    {
      "cell_type": "markdown",
      "metadata": {
        "id": "hJsxlRLFR4qS"
      },
      "source": [
        "import exponential function exp from math"
      ]
    },
    {
      "cell_type": "markdown",
      "metadata": {
        "id": "2zsxfIOlR4qS"
      },
      "source": [
        "## Problem 1"
      ]
    },
    {
      "cell_type": "markdown",
      "metadata": {
        "id": "hRruC0YfR4qS"
      },
      "source": [
        "Write three functions **Markov**, **Chebyshev** and **Chernoff** that take $n$, $p$ and $c$ as inputs and return the upper bounds for $P(X\\ge c\\cdot np)$ given by the above Markov, Chebyshev, and Chernoff inequalities as outputs.\n",
        "\n",
        "<font  style=\"color:blue\"> **Code:**</font>\n",
        "```python\n",
        "print Markov(100.,0.2,1.5)\n",
        "print Chebyshev(100.,0.2,1.5)\n",
        "print Chernoff(100.,0.2,1.5)\n",
        "```\n",
        "\n",
        "\n",
        "<font  style=\"color:magenta\"> **Output**</font>\n",
        "```\n",
        "0.6666666666666666\n",
        "0.16\n",
        "0.1353352832366127\n",
        "\n",
        "```"
      ]
    },
    {
      "cell_type": "code",
      "execution_count": 2,
      "metadata": {
        "collapsed": true,
        "id": "J6WWqNinR4qT"
      },
      "outputs": [],
      "source": [
        "\n",
        "# modify this cell\n",
        "\n",
        "def Markov(n, p, c):\n",
        "    return 1/c\n"
      ]
    },
    {
      "cell_type": "code",
      "execution_count": 4,
      "metadata": {
        "collapsed": true,
        "id": "HFuq0_YbR4qT"
      },
      "outputs": [],
      "source": [
        "\n",
        "# modify this cell\n",
        "\n",
        "def Chebyshev(n, p, c):\n",
        "    miu = n*p\n",
        "    var = n*p*(1-p)\n",
        "    sigma = var**(0.5)\n",
        "    a = (c-1)*miu/sigma\n",
        "\n",
        "    return 1/(a**2)\n"
      ]
    },
    {
      "cell_type": "code",
      "execution_count": 5,
      "metadata": {
        "collapsed": true,
        "id": "YXFjrIDVR4qU"
      },
      "outputs": [],
      "source": [
        "\n",
        "# modify this cell\n",
        "\n",
        "def Chernoff(n, p, c):\n",
        "    miu = n*p\n",
        "    delta = c-1\n",
        "    return exp((-delta**2)*miu/(2+delta))\n"
      ]
    },
    {
      "cell_type": "code",
      "execution_count": 6,
      "metadata": {
        "nbgrader": {
          "grade": true,
          "grade_id": "ex1",
          "locked": true,
          "points": "5",
          "solution": false
        },
        "id": "il1h6QRFR4qU"
      },
      "outputs": [],
      "source": [
        "assert abs(Markov(200.,0.25,1.25)-0.8)< 10**-5\n",
        "assert abs(Chebyshev(100.,0.25,1.25)-0.48)< 10**-5\n",
        "assert abs(Chernoff(100.,0.25,1.25)-0.4993517885992762)< 10**-5\n",
        "#\n",
        "# AUTOGRADER TEST - DO NOT REMOVE\n",
        "#\n"
      ]
    }
  ],
  "metadata": {
    "kernelspec": {
      "display_name": "Python 3",
      "language": "python",
      "name": "python3"
    },
    "language_info": {
      "codemirror_mode": {
        "name": "ipython",
        "version": 3
      },
      "file_extension": ".py",
      "mimetype": "text/x-python",
      "name": "python",
      "nbconvert_exporter": "python",
      "pygments_lexer": "ipython3",
      "version": "3.6.6"
    },
    "toc": {
      "colors": {
        "hover_highlight": "#DAA520",
        "navigate_num": "#000000",
        "navigate_text": "#333333",
        "running_highlight": "#FF0000",
        "selected_highlight": "#FFD700",
        "sidebar_border": "#EEEEEE",
        "wrapper_background": "#FFFFFF"
      },
      "moveMenuLeft": true,
      "nav_menu": {
        "height": "48px",
        "width": "252px"
      },
      "navigate_menu": true,
      "number_sections": true,
      "sideBar": true,
      "threshold": 4,
      "toc_cell": false,
      "toc_section_display": "block",
      "toc_window_display": false,
      "widenNotebook": false
    },
    "colab": {
      "provenance": [],
      "include_colab_link": true
    }
  },
  "nbformat": 4,
  "nbformat_minor": 0
}