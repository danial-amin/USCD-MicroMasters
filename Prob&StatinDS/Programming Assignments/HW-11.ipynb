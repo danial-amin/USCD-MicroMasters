{
  "nbformat": 4,
  "nbformat_minor": 0,
  "metadata": {
    "colab": {
      "provenance": [],
      "authorship_tag": "ABX9TyMZSD8bSsfX1qbf/1XD6orL",
      "include_colab_link": true
    },
    "kernelspec": {
      "name": "python3",
      "display_name": "Python 3"
    },
    "language_info": {
      "name": "python"
    }
  },
  "cells": [
    {
      "cell_type": "markdown",
      "metadata": {
        "id": "view-in-github",
        "colab_type": "text"
      },
      "source": [
        "<a href=\"https://colab.research.google.com/github/danial-amin/USCD-MicroMasters/blob/main/Prob%26StatinDS/Programming%20Assignments/HW-11.ipynb\" target=\"_parent\"><img src=\"https://colab.research.google.com/assets/colab-badge.svg\" alt=\"Open In Colab\"/></a>"
      ]
    },
    {
      "cell_type": "code",
      "execution_count": 1,
      "metadata": {
        "id": "21e4ILSsPfXt"
      },
      "outputs": [],
      "source": [
        "import pandas as pd\n",
        "import scipy.stats as ss\n",
        "import matplotlib.pyplot as plt\n",
        "import numpy as np"
      ]
    },
    {
      "cell_type": "code",
      "source": [
        "df = pd.read_csv('./temperature.csv')\n",
        "df1 = df.loc[:, ['San Diego']]\n",
        "\n",
        "all_temperature = df1.values\n",
        "all_temperature = all_temperature[~np.isnan(all_temperature)]\n",
        "\n",
        "plt.hist(all_temperature, bins = 100)\n",
        "plt.show()"
      ],
      "metadata": {
        "colab": {
          "base_uri": "https://localhost:8080/",
          "height": 265
        },
        "id": "X5imqa87PsAM",
        "outputId": "7a9a8572-4cee-4674-d873-246c2b8f03b4"
      },
      "execution_count": 10,
      "outputs": [
        {
          "output_type": "display_data",
          "data": {
            "text/plain": [
              "<Figure size 432x288 with 1 Axes>"
            ],
            "image/png": "[encoded data removed]"
          },
          "metadata": {
            "needs_background": "light"
          }
        }
      ]
    },
    {
      "cell_type": "code",
      "source": [
        "df.head()"
      ],
      "metadata": {
        "id": "ZT1fpktIVuR2",
        "outputId": "b3d2062c-fe69-45f6-a9c8-f32ac2a52e5d",
        "colab": {
          "base_uri": "https://localhost:8080/",
          "height": 490
        }
      },
      "execution_count": 11,
      "outputs": [
        {
          "output_type": "execute_result",
          "data": {
            "text/plain": [
              "              datetime   Vancouver    Portland  San Francisco     Seattle  \\\n",
              "0  2012-10-01 12:00:00         NaN         NaN            NaN         NaN   \n",
              "1  2012-10-01 13:00:00  284.630000  282.080000     289.480000  281.800000   \n",
              "2  2012-10-01 14:00:00  284.629041  282.083252     289.474993  281.797217   \n",
              "3  2012-10-01 15:00:00  284.626998  282.091866     289.460618  281.789833   \n",
              "4  2012-10-01 16:00:00  284.624955  282.100481     289.446243  281.782449   \n",
              "\n",
              "   Los Angeles   San Diego   Las Vegas     Phoenix  Albuquerque  ...  \\\n",
              "0          NaN         NaN         NaN         NaN          NaN  ...   \n",
              "1   291.870000  291.530000  293.410000  296.600000   285.120000  ...   \n",
              "2   291.868186  291.533501  293.403141  296.608509   285.154558  ...   \n",
              "3   291.862844  291.543355  293.392177  296.631487   285.233952  ...   \n",
              "4   291.857503  291.553209  293.381213  296.654466   285.313345  ...   \n",
              "\n",
              "   Philadelphia    New York    Montreal      Boston   Beersheba  \\\n",
              "0           NaN         NaN         NaN         NaN         NaN   \n",
              "1    285.630000  288.220000  285.830000  287.170000  307.590000   \n",
              "2    285.663208  288.247676  285.834650  287.186092  307.590000   \n",
              "3    285.756824  288.326940  285.847790  287.231672  307.391513   \n",
              "4    285.850440  288.406203  285.860929  287.277251  307.145200   \n",
              "\n",
              "   Tel Aviv District       Eilat  Haifa  Nahariyya  Jerusalem  \n",
              "0                NaN  309.100000    NaN        NaN        NaN  \n",
              "1         305.470000  310.580000  304.4      304.4      303.5  \n",
              "2         304.310000  310.495769  304.4      304.4      303.5  \n",
              "3         304.281841  310.411538  304.4      304.4      303.5  \n",
              "4         304.238015  310.327308  304.4      304.4      303.5  \n",
              "\n",
              "[5 rows x 37 columns]"
            ],
            "text/html": [
              "\n",
              "  <div id=\"df-e8696a7f-e4e3-4d12-a186-17f6ae10ce71\">\n",
              "    <div class=\"colab-df-container\">\n",
              "      <div>\n",
              "<style scoped>\n",
              "    .dataframe tbody tr th:only-of-type {\n",
              "        vertical-align: middle;\n",
              "    }\n",
              "\n",
              "    .dataframe tbody tr th {\n",
              "        vertical-align: top;\n",
              "    }\n",
              "\n",
              "    .dataframe thead th {\n",
              "        text-align: right;\n",
              "    }\n",
              "</style>\n",
              "<table border=\"1\" class=\"dataframe\">\n",
              "  <thead>\n",
              "    <tr style=\"text-align: right;\">\n",
              "      <th></th>\n",
              "      <th>datetime</th>\n",
              "      <th>Vancouver</th>\n",
              "      <th>Portland</th>\n",
              "      <th>San Francisco</th>\n",
              "      <th>Seattle</th>\n",
              "      <th>Los Angeles</th>\n",
              "      <th>San Diego</th>\n",
              "      <th>Las Vegas</th>\n",
              "      <th>Phoenix</th>\n",
              "      <th>Albuquerque</th>\n",
              "      <th>...</th>\n",
              "      <th>Philadelphia</th>\n",
              "      <th>New York</th>\n",
              "      <th>Montreal</th>\n",
              "      <th>Boston</th>\n",
              "      <th>Beersheba</th>\n",
              "      <th>Tel Aviv District</th>\n",
              "      <th>Eilat</th>\n",
              "      <th>Haifa</th>\n",
              "      <th>Nahariyya</th>\n",
              "      <th>Jerusalem</th>\n",
              "    </tr>\n",
              "  </thead>\n",
              "  <tbody>\n",
              "    <tr>\n",
              "      <th>0</th>\n",
              "      <td>2012-10-01 12:00:00</td>\n",
              "      <td>NaN</td>\n",
              "      <td>NaN</td>\n",
              "      <td>NaN</td>\n",
              "      <td>NaN</td>\n",
              "      <td>NaN</td>\n",
              "      <td>NaN</td>\n",
              "      <td>NaN</td>\n",
              "      <td>NaN</td>\n",
              "      <td>NaN</td>\n",
              "      <td>...</td>\n",
              "      <td>NaN</td>\n",
              "      <td>NaN</td>\n",
              "      <td>NaN</td>\n",
              "      <td>NaN</td>\n",
              "      <td>NaN</td>\n",
              "      <td>NaN</td>\n",
              "      <td>309.100000</td>\n",
              "      <td>NaN</td>\n",
              "      <td>NaN</td>\n",
              "      <td>NaN</td>\n",
              "    </tr>\n",
              "    <tr>\n",
              "      <th>1</th>\n",
              "      <td>2012-10-01 13:00:00</td>\n",
              "      <td>284.630000</td>\n",
              "      <td>282.080000</td>\n",
              "      <td>289.480000</td>\n",
              "      <td>281.800000</td>\n",
              "      <td>291.870000</td>\n",
              "      <td>291.530000</td>\n",
              "      <td>293.410000</td>\n",
              "      <td>296.600000</td>\n",
              "      <td>285.120000</td>\n",
              "      <td>...</td>\n",
              "      <td>285.630000</td>\n",
              "      <td>288.220000</td>\n",
              "      <td>285.830000</td>\n",
              "      <td>287.170000</td>\n",
              "      <td>307.590000</td>\n",
              "      <td>305.470000</td>\n",
              "      <td>310.580000</td>\n",
              "      <td>304.4</td>\n",
              "      <td>304.4</td>\n",
              "      <td>303.5</td>\n",
              "    </tr>\n",
              "    <tr>\n",
              "      <th>2</th>\n",
              "      <td>2012-10-01 14:00:00</td>\n",
              "      <td>284.629041</td>\n",
              "      <td>282.083252</td>\n",
              "      <td>289.474993</td>\n",
              "      <td>281.797217</td>\n",
              "      <td>291.868186</td>\n",
              "      <td>291.533501</td>\n",
              "      <td>293.403141</td>\n",
              "      <td>296.608509</td>\n",
              "      <td>285.154558</td>\n",
              "      <td>...</td>\n",
              "      <td>285.663208</td>\n",
              "      <td>288.247676</td>\n",
              "      <td>285.834650</td>\n",
              "      <td>287.186092</td>\n",
              "      <td>307.590000</td>\n",
              "      <td>304.310000</td>\n",
              "      <td>310.495769</td>\n",
              "      <td>304.4</td>\n",
              "      <td>304.4</td>\n",
              "      <td>303.5</td>\n",
              "    </tr>\n",
              "    <tr>\n",
              "      <th>3</th>\n",
              "      <td>2012-10-01 15:00:00</td>\n",
              "      <td>284.626998</td>\n",
              "      <td>282.091866</td>\n",
              "      <td>289.460618</td>\n",
              "      <td>281.789833</td>\n",
              "      <td>291.862844</td>\n",
              "      <td>291.543355</td>\n",
              "      <td>293.392177</td>\n",
              "      <td>296.631487</td>\n",
              "      <td>285.233952</td>\n",
              "      <td>...</td>\n",
              "      <td>285.756824</td>\n",
              "      <td>288.326940</td>\n",
              "      <td>285.847790</td>\n",
              "      <td>287.231672</td>\n",
              "      <td>307.391513</td>\n",
              "      <td>304.281841</td>\n",
              "      <td>310.411538</td>\n",
              "      <td>304.4</td>\n",
              "      <td>304.4</td>\n",
              "      <td>303.5</td>\n",
              "    </tr>\n",
              "    <tr>\n",
              "      <th>4</th>\n",
              "      <td>2012-10-01 16:00:00</td>\n",
              "      <td>284.624955</td>\n",
              "      <td>282.100481</td>\n",
              "      <td>289.446243</td>\n",
              "      <td>281.782449</td>\n",
              "      <td>291.857503</td>\n",
              "      <td>291.553209</td>\n",
              "      <td>293.381213</td>\n",
              "      <td>296.654466</td>\n",
              "      <td>285.313345</td>\n",
              "      <td>...</td>\n",
              "      <td>285.850440</td>\n",
              "      <td>288.406203</td>\n",
              "      <td>285.860929</td>\n",
              "      <td>287.277251</td>\n",
              "      <td>307.145200</td>\n",
              "      <td>304.238015</td>\n",
              "      <td>310.327308</td>\n",
              "      <td>304.4</td>\n",
              "      <td>304.4</td>\n",
              "      <td>303.5</td>\n",
              "    </tr>\n",
              "  </tbody>\n",
              "</table>\n",
              "<p>5 rows × 37 columns</p>\n",
              "</div>\n",
              "      <button class=\"colab-df-convert\" onclick=\"convertToInteractive('df-e8696a7f-e4e3-4d12-a186-17f6ae10ce71')\"\n",
              "              title=\"Convert this dataframe to an interactive table.\"\n",
              "              style=\"display:none;\">\n",
              "        \n",
              "  <svg xmlns=\"http://www.w3.org/2000/svg\" height=\"24px\"viewBox=\"0 0 24 24\"\n",
              "       width=\"24px\">\n",
              "    <path d=\"M0 0h24v24H0V0z\" fill=\"none\"/>\n",
              "    <path d=\"M18.56 5.44l.94 2.06.94-2.06 2.06-.94-2.06-.94-.94-2.06-.94 2.06-2.06.94zm-11 1L8.5 8.5l.94-2.06 2.06-.94-2.06-.94L8.5 2.5l-.94 2.06-2.06.94zm10 10l.94 2.06.94-2.06 2.06-.94-2.06-.94-.94-2.06-.94 2.06-2.06.94z\"/><path d=\"M17.41 7.96l-1.37-1.37c-.4-.4-.92-.59-1.43-.59-.52 0-1.04.2-1.43.59L10.3 9.45l-7.72 7.72c-.78.78-.78 2.05 0 2.83L4 21.41c.39.39.9.59 1.41.59.51 0 1.02-.2 1.41-.59l7.78-7.78 2.81-2.81c.8-.78.8-2.07 0-2.86zM5.41 20L4 18.59l7.72-7.72 1.47 1.35L5.41 20z\"/>\n",
              "  </svg>\n",
              "      </button>\n",
              "      \n",
              "  <style>\n",
              "    .colab-df-container {\n",
              "      display:flex;\n",
              "      flex-wrap:wrap;\n",
              "      gap: 12px;\n",
              "    }\n",
              "\n",
              "    .colab-df-convert {\n",
              "      background-color: #E8F0FE;\n",
              "      border: none;\n",
              "      border-radius: 50%;\n",
              "      cursor: pointer;\n",
              "      display: none;\n",
              "      fill: #1967D2;\n",
              "      height: 32px;\n",
              "      padding: 0 0 0 0;\n",
              "      width: 32px;\n",
              "    }\n",
              "\n",
              "    .colab-df-convert:hover {\n",
              "      background-color: #E2EBFA;\n",
              "      box-shadow: 0px 1px 2px rgba(60, 64, 67, 0.3), 0px 1px 3px 1px rgba(60, 64, 67, 0.15);\n",
              "      fill: #174EA6;\n",
              "    }\n",
              "\n",
              "    [theme=dark] .colab-df-convert {\n",
              "      background-color: #3B4455;\n",
              "      fill: #D2E3FC;\n",
              "    }\n",
              "\n",
              "    [theme=dark] .colab-df-convert:hover {\n",
              "      background-color: #434B5C;\n",
              "      box-shadow: 0px 1px 3px 1px rgba(0, 0, 0, 0.15);\n",
              "      filter: drop-shadow(0px 1px 2px rgba(0, 0, 0, 0.3));\n",
              "      fill: #FFFFFF;\n",
              "    }\n",
              "  </style>\n",
              "\n",
              "      <script>\n",
              "        const buttonEl =\n",
              "          document.querySelector('#df-e8696a7f-e4e3-4d12-a186-17f6ae10ce71 button.colab-df-convert');\n",
              "        buttonEl.style.display =\n",
              "          google.colab.kernel.accessAllowed ? 'block' : 'none';\n",
              "\n",
              "        async function convertToInteractive(key) {\n",
              "          const element = document.querySelector('#df-e8696a7f-e4e3-4d12-a186-17f6ae10ce71');\n",
              "          const dataTable =\n",
              "            await google.colab.kernel.invokeFunction('convertToInteractive',\n",
              "                                                     [key], {});\n",
              "          if (!dataTable) return;\n",
              "\n",
              "          const docLinkHtml = 'Like what you see? Visit the ' +\n",
              "            '<a target=\"_blank\" href=https://colab.research.google.com/notebooks/data_table.ipynb>data table notebook</a>'\n",
              "            + ' to learn more about interactive tables.';\n",
              "          element.innerHTML = '';\n",
              "          dataTable['output_type'] = 'display_data';\n",
              "          await google.colab.output.renderOutput(dataTable, element);\n",
              "          const docLink = document.createElement('div');\n",
              "          docLink.innerHTML = docLinkHtml;\n",
              "          element.appendChild(docLink);\n",
              "        }\n",
              "      </script>\n",
              "    </div>\n",
              "  </div>\n",
              "  "
            ]
          },
          "metadata": {},
          "execution_count": 11
        }
      ]
    },
    {
      "cell_type": "code",
      "source": [
        "df['datetime']=pd.to_datetime(df['datetime'])"
      ],
      "metadata": {
        "id": "ZCrLkDBUWDvO"
      },
      "execution_count": 14,
      "outputs": []
    },
    {
      "cell_type": "code",
      "source": [
        "df['year'] = pd.DatetimeIndex(df['datetime']).year\n",
        "df['month'] = pd.DatetimeIndex(df['datetime']).month\n",
        "df2=df[(df['year']==2013)]\n",
        "df2[(df2['month']==2)].head()"
      ],
      "metadata": {
        "id": "-BXBTJb-XKAi",
        "outputId": "8d230644-b73e-4a5c-b552-35704c0e6e2f",
        "colab": {
          "base_uri": "https://localhost:8080/",
          "height": 490
        }
      },
      "execution_count": 28,
      "outputs": [
        {
          "output_type": "execute_result",
          "data": {
            "text/plain": [
              "                datetime  Vancouver  Portland  San Francisco  Seattle  \\\n",
              "2940 2013-02-01 00:00:00     278.82    282.12         288.34   281.68   \n",
              "2941 2013-02-01 01:00:00     278.56    282.18         288.09   281.55   \n",
              "2942 2013-02-01 02:00:00     278.52    282.01         285.44   281.55   \n",
              "2943 2013-02-01 03:00:00     278.56    282.07         284.35   281.46   \n",
              "2944 2013-02-01 04:00:00     278.33    281.66         282.94   281.55   \n",
              "\n",
              "      Los Angeles  San Diego  Las Vegas  Phoenix  Albuquerque  ...  Montreal  \\\n",
              "2940       289.66     289.83     287.20   287.61       277.15  ...    275.15   \n",
              "2941       289.50     289.15     286.42   285.74       276.15  ...    278.85   \n",
              "2942       287.57     287.80     284.05   284.60       276.15  ...    278.85   \n",
              "2943       287.23     286.71     283.10   283.40       273.18  ...    277.19   \n",
              "2944       286.08     285.79     282.14   282.15       270.21  ...    275.15   \n",
              "\n",
              "      Boston  Beersheba  Tel Aviv District    Eilat   Haifa  Nahariyya  \\\n",
              "2940  283.71     280.19             283.15  288.150  285.15     285.15   \n",
              "2941  283.71     280.19             283.15  283.860  285.15     285.15   \n",
              "2942  283.71     280.19             283.15  279.570  285.15     285.15   \n",
              "2943  284.99     280.77             282.15  288.150  285.13     285.13   \n",
              "2944  284.99     280.77             282.83  280.856  285.13     285.13   \n",
              "\n",
              "      Jerusalem  year  month  \n",
              "2940     281.45  2013      2  \n",
              "2941     281.45  2013      2  \n",
              "2942     281.45  2013      2  \n",
              "2943     282.62  2013      2  \n",
              "2944     282.62  2013      2  \n",
              "\n",
              "[5 rows x 39 columns]"
            ],
            "text/html": [
              "\n",
              "  <div id=\"df-ae0c3cbc-208c-4deb-b727-3d5fe3fb7439\">\n",
              "    <div class=\"colab-df-container\">\n",
              "      <div>\n",
              "<style scoped>\n",
              "    .dataframe tbody tr th:only-of-type {\n",
              "        vertical-align: middle;\n",
              "    }\n",
              "\n",
              "    .dataframe tbody tr th {\n",
              "        vertical-align: top;\n",
              "    }\n",
              "\n",
              "    .dataframe thead th {\n",
              "        text-align: right;\n",
              "    }\n",
              "</style>\n",
              "<table border=\"1\" class=\"dataframe\">\n",
              "  <thead>\n",
              "    <tr style=\"text-align: right;\">\n",
              "      <th></th>\n",
              "      <th>datetime</th>\n",
              "      <th>Vancouver</th>\n",
              "      <th>Portland</th>\n",
              "      <th>San Francisco</th>\n",
              "      <th>Seattle</th>\n",
              "      <th>Los Angeles</th>\n",
              "      <th>San Diego</th>\n",
              "      <th>Las Vegas</th>\n",
              "      <th>Phoenix</th>\n",
              "      <th>Albuquerque</th>\n",
              "      <th>...</th>\n",
              "      <th>Montreal</th>\n",
              "      <th>Boston</th>\n",
              "      <th>Beersheba</th>\n",
              "      <th>Tel Aviv District</th>\n",
              "      <th>Eilat</th>\n",
              "      <th>Haifa</th>\n",
              "      <th>Nahariyya</th>\n",
              "      <th>Jerusalem</th>\n",
              "      <th>year</th>\n",
              "      <th>month</th>\n",
              "    </tr>\n",
              "  </thead>\n",
              "  <tbody>\n",
              "    <tr>\n",
              "      <th>2940</th>\n",
              "      <td>2013-02-01 00:00:00</td>\n",
              "      <td>278.82</td>\n",
              "      <td>282.12</td>\n",
              "      <td>288.34</td>\n",
              "      <td>281.68</td>\n",
              "      <td>289.66</td>\n",
              "      <td>289.83</td>\n",
              "      <td>287.20</td>\n",
              "      <td>287.61</td>\n",
              "      <td>277.15</td>\n",
              "      <td>...</td>\n",
              "      <td>275.15</td>\n",
              "      <td>283.71</td>\n",
              "      <td>280.19</td>\n",
              "      <td>283.15</td>\n",
              "      <td>288.150</td>\n",
              "      <td>285.15</td>\n",
              "      <td>285.15</td>\n",
              "      <td>281.45</td>\n",
              "      <td>2013</td>\n",
              "      <td>2</td>\n",
              "    </tr>\n",
              "    <tr>\n",
              "      <th>2941</th>\n",
              "      <td>2013-02-01 01:00:00</td>\n",
              "      <td>278.56</td>\n",
              "      <td>282.18</td>\n",
              "      <td>288.09</td>\n",
              "      <td>281.55</td>\n",
              "      <td>289.50</td>\n",
              "      <td>289.15</td>\n",
              "      <td>286.42</td>\n",
              "      <td>285.74</td>\n",
              "      <td>276.15</td>\n",
              "      <td>...</td>\n",
              "      <td>278.85</td>\n",
              "      <td>283.71</td>\n",
              "      <td>280.19</td>\n",
              "      <td>283.15</td>\n",
              "      <td>283.860</td>\n",
              "      <td>285.15</td>\n",
              "      <td>285.15</td>\n",
              "      <td>281.45</td>\n",
              "      <td>2013</td>\n",
              "      <td>2</td>\n",
              "    </tr>\n",
              "    <tr>\n",
              "      <th>2942</th>\n",
              "      <td>2013-02-01 02:00:00</td>\n",
              "      <td>278.52</td>\n",
              "      <td>282.01</td>\n",
              "      <td>285.44</td>\n",
              "      <td>281.55</td>\n",
              "      <td>287.57</td>\n",
              "      <td>287.80</td>\n",
              "      <td>284.05</td>\n",
              "      <td>284.60</td>\n",
              "      <td>276.15</td>\n",
              "      <td>...</td>\n",
              "      <td>278.85</td>\n",
              "      <td>283.71</td>\n",
              "      <td>280.19</td>\n",
              "      <td>283.15</td>\n",
              "      <td>279.570</td>\n",
              "      <td>285.15</td>\n",
              "      <td>285.15</td>\n",
              "      <td>281.45</td>\n",
              "      <td>2013</td>\n",
              "      <td>2</td>\n",
              "    </tr>\n",
              "    <tr>\n",
              "      <th>2943</th>\n",
              "      <td>2013-02-01 03:00:00</td>\n",
              "      <td>278.56</td>\n",
              "      <td>282.07</td>\n",
              "      <td>284.35</td>\n",
              "      <td>281.46</td>\n",
              "      <td>287.23</td>\n",
              "      <td>286.71</td>\n",
              "      <td>283.10</td>\n",
              "      <td>283.40</td>\n",
              "      <td>273.18</td>\n",
              "      <td>...</td>\n",
              "      <td>277.19</td>\n",
              "      <td>284.99</td>\n",
              "      <td>280.77</td>\n",
              "      <td>282.15</td>\n",
              "      <td>288.150</td>\n",
              "      <td>285.13</td>\n",
              "      <td>285.13</td>\n",
              "      <td>282.62</td>\n",
              "      <td>2013</td>\n",
              "      <td>2</td>\n",
              "    </tr>\n",
              "    <tr>\n",
              "      <th>2944</th>\n",
              "      <td>2013-02-01 04:00:00</td>\n",
              "      <td>278.33</td>\n",
              "      <td>281.66</td>\n",
              "      <td>282.94</td>\n",
              "      <td>281.55</td>\n",
              "      <td>286.08</td>\n",
              "      <td>285.79</td>\n",
              "      <td>282.14</td>\n",
              "      <td>282.15</td>\n",
              "      <td>270.21</td>\n",
              "      <td>...</td>\n",
              "      <td>275.15</td>\n",
              "      <td>284.99</td>\n",
              "      <td>280.77</td>\n",
              "      <td>282.83</td>\n",
              "      <td>280.856</td>\n",
              "      <td>285.13</td>\n",
              "      <td>285.13</td>\n",
              "      <td>282.62</td>\n",
              "      <td>2013</td>\n",
              "      <td>2</td>\n",
              "    </tr>\n",
              "  </tbody>\n",
              "</table>\n",
              "<p>5 rows × 39 columns</p>\n",
              "</div>\n",
              "      <button class=\"colab-df-convert\" onclick=\"convertToInteractive('df-ae0c3cbc-208c-4deb-b727-3d5fe3fb7439')\"\n",
              "              title=\"Convert this dataframe to an interactive table.\"\n",
              "              style=\"display:none;\">\n",
              "        \n",
              "  <svg xmlns=\"http://www.w3.org/2000/svg\" height=\"24px\"viewBox=\"0 0 24 24\"\n",
              "       width=\"24px\">\n",
              "    <path d=\"M0 0h24v24H0V0z\" fill=\"none\"/>\n",
              "    <path d=\"M18.56 5.44l.94 2.06.94-2.06 2.06-.94-2.06-.94-.94-2.06-.94 2.06-2.06.94zm-11 1L8.5 8.5l.94-2.06 2.06-.94-2.06-.94L8.5 2.5l-.94 2.06-2.06.94zm10 10l.94 2.06.94-2.06 2.06-.94-2.06-.94-.94-2.06-.94 2.06-2.06.94z\"/><path d=\"M17.41 7.96l-1.37-1.37c-.4-.4-.92-.59-1.43-.59-.52 0-1.04.2-1.43.59L10.3 9.45l-7.72 7.72c-.78.78-.78 2.05 0 2.83L4 21.41c.39.39.9.59 1.41.59.51 0 1.02-.2 1.41-.59l7.78-7.78 2.81-2.81c.8-.78.8-2.07 0-2.86zM5.41 20L4 18.59l7.72-7.72 1.47 1.35L5.41 20z\"/>\n",
              "  </svg>\n",
              "      </button>\n",
              "      \n",
              "  <style>\n",
              "    .colab-df-container {\n",
              "      display:flex;\n",
              "      flex-wrap:wrap;\n",
              "      gap: 12px;\n",
              "    }\n",
              "\n",
              "    .colab-df-convert {\n",
              "      background-color: #E8F0FE;\n",
              "      border: none;\n",
              "      border-radius: 50%;\n",
              "      cursor: pointer;\n",
              "      display: none;\n",
              "      fill: #1967D2;\n",
              "      height: 32px;\n",
              "      padding: 0 0 0 0;\n",
              "      width: 32px;\n",
              "    }\n",
              "\n",
              "    .colab-df-convert:hover {\n",
              "      background-color: #E2EBFA;\n",
              "      box-shadow: 0px 1px 2px rgba(60, 64, 67, 0.3), 0px 1px 3px 1px rgba(60, 64, 67, 0.15);\n",
              "      fill: #174EA6;\n",
              "    }\n",
              "\n",
              "    [theme=dark] .colab-df-convert {\n",
              "      background-color: #3B4455;\n",
              "      fill: #D2E3FC;\n",
              "    }\n",
              "\n",
              "    [theme=dark] .colab-df-convert:hover {\n",
              "      background-color: #434B5C;\n",
              "      box-shadow: 0px 1px 3px 1px rgba(0, 0, 0, 0.15);\n",
              "      filter: drop-shadow(0px 1px 2px rgba(0, 0, 0, 0.3));\n",
              "      fill: #FFFFFF;\n",
              "    }\n",
              "  </style>\n",
              "\n",
              "      <script>\n",
              "        const buttonEl =\n",
              "          document.querySelector('#df-ae0c3cbc-208c-4deb-b727-3d5fe3fb7439 button.colab-df-convert');\n",
              "        buttonEl.style.display =\n",
              "          google.colab.kernel.accessAllowed ? 'block' : 'none';\n",
              "\n",
              "        async function convertToInteractive(key) {\n",
              "          const element = document.querySelector('#df-ae0c3cbc-208c-4deb-b727-3d5fe3fb7439');\n",
              "          const dataTable =\n",
              "            await google.colab.kernel.invokeFunction('convertToInteractive',\n",
              "                                                     [key], {});\n",
              "          if (!dataTable) return;\n",
              "\n",
              "          const docLinkHtml = 'Like what you see? Visit the ' +\n",
              "            '<a target=\"_blank\" href=https://colab.research.google.com/notebooks/data_table.ipynb>data table notebook</a>'\n",
              "            + ' to learn more about interactive tables.';\n",
              "          element.innerHTML = '';\n",
              "          dataTable['output_type'] = 'display_data';\n",
              "          await google.colab.output.renderOutput(dataTable, element);\n",
              "          const docLink = document.createElement('div');\n",
              "          docLink.innerHTML = docLinkHtml;\n",
              "          element.appendChild(docLink);\n",
              "        }\n",
              "      </script>\n",
              "    </div>\n",
              "  </div>\n",
              "  "
            ]
          },
          "metadata": {},
          "execution_count": 28
        }
      ]
    },
    {
      "cell_type": "code",
      "source": [
        "all_temperature = df.values\n",
        "all_temperature = all_temperature[~np.isnan(all_temperature)]\n",
        "\n",
        "mu_all = np.mean(all_temperature)\n",
        "var_all = np.var(all_temperature, ddof=1)\n",
        "\n",
        "print('The sample mean is {}'.format(mu_all))\n",
        "print('The sample variance is {}'.format(var_all))"
      ],
      "metadata": {
        "id": "5Q_4W_jqVEEp",
        "outputId": "a3257989-a5b9-43ee-92fe-27fd3ffc1bd7",
        "colab": {
          "base_uri": "https://localhost:8080/"
        }
      },
      "execution_count": 7,
      "outputs": [
        {
          "output_type": "stream",
          "name": "stdout",
          "text": [
            "The sample mean is 290.21504416529143\n",
            "The sample variance is 34.69200770362576\n"
          ]
        }
      ]
    },
    {
      "cell_type": "code",
      "source": [
        "specific_temperature = df2[(df2['month']==2)].loc[:, ['San Diego']].values\n",
        "specific_temperature = specific_temperature[~np.isnan(specific_temperature)]\n",
        "\n",
        "mu_spc = np.mean(specific_temperature)\n",
        "\n",
        "print('The sample mean in February 2013 is {}'.format(mu_spc))"
      ],
      "metadata": {
        "id": "wlSYNXPDVdAW",
        "outputId": "0cf28bbf-1eeb-46d7-bf47-e4f1d3b2f2c6",
        "colab": {
          "base_uri": "https://localhost:8080/"
        }
      },
      "execution_count": 29,
      "outputs": [
        {
          "output_type": "stream",
          "name": "stdout",
          "text": [
            "The sample mean in February 2013 is 285.24695012400895\n"
          ]
        }
      ]
    },
    {
      "cell_type": "code",
      "source": [
        "#Plotting first\n",
        "temperature = pd.read_csv('temperature.csv', delimiter = ',')\n",
        "Detroit = temperature['Detroit'][1:].values\n",
        "plt.hist(Detroit, bins = 100, density = True)\n",
        "# Plot pdf\n",
        "mu = 283\n",
        "sigma = 11\n",
        "x = np.arange(240, 320, 0.5)\n",
        "plt.plot(x, ss.norm.pdf(x, loc = mu, scale = sigma) )\n",
        "plt.xlabel('Temperature (Kelvin)')\n",
        "plt.ylabel('Probability')\n",
        "\n",
        "plt.show();"
      ],
      "metadata": {
        "colab": {
          "base_uri": "https://localhost:8080/",
          "height": 279
        },
        "id": "eAj8YuUURElW",
        "outputId": "913836fd-4c7a-43ed-dddd-8b203fbe361c"
      },
      "execution_count": null,
      "outputs": [
        {
          "output_type": "display_data",
          "data": {
            "text/plain": [
              "<Figure size 432x288 with 1 Axes>"
            ],
            "image/png": "[encoded data removed]"
          },
          "metadata": {
            "needs_background": "light"
          }
        }
      ]
    },
    {
      "cell_type": "code",
      "source": [
        "#Plotting second\n",
        "temperature = pd.read_csv('temperature.csv', delimiter = ',')\n",
        "Detroit = temperature['Detroit'][1:].values\n",
        "plt.hist(Detroit, bins = 100, density = True)\n",
        "# Plot pdf\n",
        "mu1 = 276\n",
        "sigma1 = 6\n",
        "mu2 = 293\n",
        "sigma2 = 6.5\n",
        "x = np.arange(240, 320, 0.5)\n",
        "plt.plot(x, 0.5 * ss.norm.pdf(x, loc = mu1, scale = sigma1) + 0.5 * ss.norm.pdf(x, loc = mu2, scale = sigma2))\n",
        "plt.xlabel('Temperature (Kelvin)')\n",
        "plt.ylabel('Probability')\n",
        "\n",
        "plt.show();"
      ],
      "metadata": {
        "colab": {
          "base_uri": "https://localhost:8080/",
          "height": 279
        },
        "id": "7hOnijU1Q9e2",
        "outputId": "67046ef2-b5f3-4861-e899-87f64aeec04c"
      },
      "execution_count": null,
      "outputs": [
        {
          "output_type": "display_data",
          "data": {
            "text/plain": [
              "<Figure size 432x288 with 1 Axes>"
            ],
            "image/png": "[encoded data removed]"
          },
          "metadata": {
            "needs_background": "light"
          }
        }
      ]
    },
    {
      "cell_type": "code",
      "source": [
        "#Plotting third\n",
        "temperature = pd.read_csv('temperature.csv', delimiter = ',')\n",
        "Detroit = temperature['Detroit'][1:].values\n",
        "plt.hist(Detroit, bins = 100, density = True)\n",
        "# Plot pdf\n",
        "mu1 = 276\n",
        "sigma1 = 6.5\n",
        "mu2 = 293\n",
        "sigma2 = 6\n",
        "x = np.arange(240, 320, 0.5)\n",
        "plt.plot(x, 0.5 * ss.norm.pdf(x, loc = mu1, scale = sigma1) + 0.5 * ss.norm.pdf(x, loc = mu2, scale = sigma2))\n",
        "plt.xlabel('Temperature (Kelvin)')\n",
        "plt.ylabel('Probability')\n",
        "\n",
        "plt.show();"
      ],
      "metadata": {
        "colab": {
          "base_uri": "https://localhost:8080/",
          "height": 279
        },
        "id": "X6C12BySQXMK",
        "outputId": "f43925fa-e594-4678-bf00-f9460095dcb2"
      },
      "execution_count": null,
      "outputs": [
        {
          "output_type": "display_data",
          "data": {
            "text/plain": [
              "<Figure size 432x288 with 1 Axes>"
            ],
            "image/png": "[encoded data removed]"
          },
          "metadata": {
            "needs_background": "light"
          }
        }
      ]
    },
    {
      "cell_type": "code",
      "source": [
        "p = 0.5 * (ss.norm.cdf(291, mu1, sigma1) - ss.norm.cdf(281, mu1, sigma1) + ss.norm.cdf(291, mu2, sigma2) - ss.norm.cdf(281, mu2, sigma2))\n",
        "print('The probability of the temperature lying inbetween 281K and 291K for the city of Detroit is {}'.format(p))"
      ],
      "metadata": {
        "colab": {
          "base_uri": "https://localhost:8080/"
        },
        "id": "UcF5ED-aQlcf",
        "outputId": "37a65641-ede5-481c-fde9-f7a78b0ec927"
      },
      "execution_count": null,
      "outputs": [
        {
          "output_type": "stream",
          "name": "stdout",
          "text": [
            "The probability of the temperature lying inbetween 281K and 291K for the city of Detroit is 0.2785306219161424\n"
          ]
        }
      ]
    }
  ]
}