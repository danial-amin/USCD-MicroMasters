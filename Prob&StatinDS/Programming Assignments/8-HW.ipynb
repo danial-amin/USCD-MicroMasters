{
  "nbformat": 4,
  "nbformat_minor": 0,
  "metadata": {
    "colab": {
      "provenance": [],
      "authorship_tag": "ABX9TyMTfa2z3ub9Zz37tKszTMK6",
      "include_colab_link": true
    },
    "kernelspec": {
      "name": "python3",
      "display_name": "Python 3"
    },
    "language_info": {
      "name": "python"
    }
  },
  "cells": [
    {
      "cell_type": "markdown",
      "metadata": {
        "id": "view-in-github",
        "colab_type": "text"
      },
      "source": [
        "<a href=\"https://colab.research.google.com/github/danial-amin/USCD-MicroMasters/blob/main/Prob%26StatinDS/Programming%20Assignments/8-HW.ipynb\" target=\"_parent\"><img src=\"https://colab.research.google.com/assets/colab-badge.svg\" alt=\"Open In Colab\"/></a>"
      ]
    },
    {
      "cell_type": "code",
      "execution_count": 1,
      "metadata": {
        "id": "lsZjgryNMae3"
      },
      "outputs": [],
      "source": [
        "import pandas as pd\n",
        "import numpy as np"
      ]
    },
    {
      "cell_type": "code",
      "source": [
        "data=pd.read_csv(\"train.csv\")"
      ],
      "metadata": {
        "id": "fNVA-6wKMmeo"
      },
      "execution_count": 10,
      "outputs": []
    },
    {
      "cell_type": "code",
      "source": [
        "print(data['Survived'].value_counts(normalize=True))"
      ],
      "metadata": {
        "colab": {
          "base_uri": "https://localhost:8080/"
        },
        "id": "YHa6k4aWMfGv",
        "outputId": "b1063543-9829-46aa-bc54-3cf184c2c7e7"
      },
      "execution_count": 11,
      "outputs": [
        {
          "output_type": "stream",
          "name": "stdout",
          "text": [
            "0    0.616162\n",
            "1    0.383838\n",
            "Name: Survived, dtype: float64\n"
          ]
        }
      ]
    },
    {
      "cell_type": "code",
      "source": [
        "print(data[data['Sex'] == 'female'].groupby(['Sex'])['Survived'].value_counts() / data[data['Sex'] == 'female']['Survived'].count())"
      ],
      "metadata": {
        "colab": {
          "base_uri": "https://localhost:8080/"
        },
        "id": "9yrC7Y_GM1Jp",
        "outputId": "de05fbee-6e51-4be6-b6b7-5088d4920363"
      },
      "execution_count": 12,
      "outputs": [
        {
          "output_type": "stream",
          "name": "stdout",
          "text": [
            "Sex     Survived\n",
            "female  1           0.742038\n",
            "        0           0.257962\n",
            "Name: Survived, dtype: float64\n"
          ]
        }
      ]
    },
    {
      "cell_type": "code",
      "source": [
        "print(data.groupby(['Sex'])['Survived'].value_counts() / data['Survived'].count())"
      ],
      "metadata": {
        "colab": {
          "base_uri": "https://localhost:8080/"
        },
        "id": "9Sx3nDyDNcLD",
        "outputId": "2b98b48b-504d-4321-8119-483b8878c5e7"
      },
      "execution_count": 13,
      "outputs": [
        {
          "output_type": "stream",
          "name": "stdout",
          "text": [
            "Sex     Survived\n",
            "female  1           0.261504\n",
            "        0           0.090909\n",
            "male    0           0.525253\n",
            "        1           0.122334\n",
            "Name: Survived, dtype: float64\n"
          ]
        }
      ]
    },
    {
      "cell_type": "code",
      "source": [],
      "metadata": {
        "id": "J1QFFp-iOW92"
      },
      "execution_count": null,
      "outputs": []
    }
  ]
}