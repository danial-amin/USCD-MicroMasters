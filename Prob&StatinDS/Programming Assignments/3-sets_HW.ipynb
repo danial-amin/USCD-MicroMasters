{
  "cells": [
    {
      "cell_type": "markdown",
      "metadata": {
        "id": "view-in-github",
        "colab_type": "text"
      },
      "source": [
        "<a href=\"https://colab.research.google.com/github/danial-amin/USCD-MicroMasters/blob/main/Prob%26StatinDS/Programming%20Assignments/3-sets_HW.ipynb\" target=\"_parent\"><img src=\"https://colab.research.google.com/assets/colab-badge.svg\" alt=\"Open In Colab\"/></a>"
      ]
    },
    {
      "cell_type": "markdown",
      "metadata": {
        "id": "zMr8cXSgQUQ2"
      },
      "source": [
        "<font size=\"4\" style=\"color:red;\"> **IMPORTANT: ** When submitting this homework notebook, please modify only the cells that start with:</font>\n",
        "\n",
        "```python\n",
        "# modify this cell\n",
        "```"
      ]
    },
    {
      "cell_type": "markdown",
      "metadata": {
        "id": "huBJQBnlQUQ9"
      },
      "source": [
        "*Note:* No packages should be imported for this assignment"
      ]
    },
    {
      "cell_type": "markdown",
      "metadata": {
        "id": "bS2lYyc_QUQ-"
      },
      "source": [
        "# Sets: The Inclusion-Exclusion Principle"
      ]
    },
    {
      "cell_type": "markdown",
      "metadata": {
        "id": "jxecsRXoQUQ-"
      },
      "source": [
        "## Problem 1"
      ]
    },
    {
      "cell_type": "markdown",
      "metadata": {
        "id": "EoaZ34XDQURE"
      },
      "source": [
        "### Problem 1.1"
      ]
    },
    {
      "cell_type": "markdown",
      "metadata": {
        "id": "NvauJ2pwQURM"
      },
      "source": [
        "<img style=\"float: right;width:300px;height:200px\" src=\"figs/Venn2.jpg\">\n",
        "The inclusion-exclusion principle states that for two sets $A$ and $B$,\n",
        "\n",
        "$$|A\\cup B|=|A|+|B|-|A\\cap B|.$$\n",
        "\n",
        "Write the following functions to determine $|A\\cup B|$ in two different ways.\n",
        "\n",
        "A function **union** that determines first $A\\cup B$ and then evaluates the union's size.\n",
        "Output the ordered pair $(A\\cup B, |A\\cup B|)$.\n",
        "\n",
        "<font  style=\"color:blue\"> * **Sample run** *</font>\n",
        "```python\n",
        "A = {1, 2, 3}\n",
        "B = {3, -6, 2, 0}\n",
        "print union(A, B)\n",
        "```\n",
        "\n",
        "<font  style=\"color:magenta\"> * **Expected Output** *</font>\n",
        "```\n",
        "({-6, 0, 1, 2, 3}, 5)\n",
        "```"
      ]
    },
    {
      "cell_type": "code",
      "execution_count": 13,
      "metadata": {
        "collapsed": true,
        "scrolled": true,
        "id": "rgmpEQFpQURN"
      },
      "outputs": [],
      "source": [
        "# modify this cell\n",
        "\n",
        "def union(A, B):\n",
        "    # inputs: A and B are of type 'set'\n",
        "    # output: a tuple of the type (set, set_length)\n",
        "    return (A|B, len(A|B))\n"
      ]
    },
    {
      "cell_type": "code",
      "execution_count": 14,
      "metadata": {
        "collapsed": true,
        "nbgrader": {
          "grade": true,
          "grade_id": "ex1",
          "locked": true,
          "points": "5",
          "solution": false
        },
        "colab": {
          "base_uri": "https://localhost:8080/"
        },
        "id": "w1oAXg6uQURb",
        "outputId": "27a91bf9-add6-43eb-9ebf-f4b1e996e408"
      },
      "outputs": [
        {
          "output_type": "stream",
          "name": "stdout",
          "text": [
            "({0, 'jill', 5, 10, 'bob', -2}, 6)\n"
          ]
        }
      ],
      "source": [
        "A = {-2,0,5, \"bob\"}\n",
        "B = {-2,0,5,10,\"jill\"}\n",
        "print(union(A,B))\n",
        "\n",
        "#\n",
        "# AUTOGRADER TEST - DO NOT REMOVE\n",
        "#\n"
      ]
    },
    {
      "cell_type": "markdown",
      "metadata": {
        "id": "x0zgIFG-QURc"
      },
      "source": [
        "### Problem 1.2"
      ]
    },
    {
      "cell_type": "markdown",
      "metadata": {
        "id": "bamW6SbrQURd"
      },
      "source": [
        "A function **inclusion_exclusion** that first deterimines $|A|$, $|B|$, $A\\cap B$, and $|A\\cap B|$, and then uses the inclusion-exclusion formula to determine $|A\\cup B|$. \n",
        "Output the tuple $(|A|, |B|, |A\\cap B|, |A\\cup B|)$.\n",
        "\n",
        "<img style=\"float: right;width:400px;height:266px\" src=\"figs/Venn3.jpg\">\n",
        "<font  style=\"color:blue\"> * **Sample run:** *</font>\n",
        "```python\n",
        "A = {1, 2, 3}\n",
        "B = {3, -6, 2, 0}\n",
        "print inclusion_exclusion(A, B)\n",
        "print \"notice: 3 + 4 - 2 == 5\"\n",
        "```\n",
        "\n",
        "<font  style=\"color:magenta\"> * **Expected Output:** *</font>\n",
        "```\n",
        "(3, 4, 2, 5)\n",
        "notice: 3 + 4 - 2 == 5\n",
        "```"
      ]
    },
    {
      "cell_type": "code",
      "execution_count": 15,
      "metadata": {
        "collapsed": true,
        "id": "3W_QTzMQQURm"
      },
      "outputs": [],
      "source": [
        "# modify this cell\n",
        "\n",
        "def inclusion_exclusion(A, B):\n",
        "    return (len(A),len(B),len(A&B),len(A)+len(B)-len(A&B))\n"
      ]
    },
    {
      "cell_type": "code",
      "source": [
        "A = {-2,0,5, \"bob\"}\n",
        "B = {-2,0,5,10,\"jill\"}\n",
        "print(inclusion_exclusion(A,B))\n"
      ],
      "metadata": {
        "colab": {
          "base_uri": "https://localhost:8080/"
        },
        "id": "stVKn_dLR5h_",
        "outputId": "0cd6cc79-19b2-4669-8b45-387dbdc63f15"
      },
      "execution_count": 16,
      "outputs": [
        {
          "output_type": "stream",
          "name": "stdout",
          "text": [
            "(4, 5, 3, 6)\n"
          ]
        }
      ]
    },
    {
      "cell_type": "code",
      "execution_count": 17,
      "metadata": {
        "collapsed": true,
        "nbgrader": {
          "grade": true,
          "grade_id": "ex2",
          "locked": true,
          "points": "5",
          "solution": false
        },
        "id": "p-8Vz2A4QURn"
      },
      "outputs": [],
      "source": [
        "# Check Function\n",
        "\n",
        "A = {1, 2, 3, 4, 5}\n",
        "B = {0, 2, -6, 5, 8, 9}\n",
        "assert inclusion_exclusion(A, B) == (5, 6, 2, 9)\n",
        "\n",
        "#\n",
        "# AUTOGRADER TEST - DO NOT REMOVE\n",
        "#\n"
      ]
    },
    {
      "cell_type": "markdown",
      "metadata": {
        "collapsed": true,
        "id": "GGM0lshxQURo"
      },
      "source": [
        "## Problem 2"
      ]
    },
    {
      "cell_type": "markdown",
      "metadata": {
        "id": "3nkRB94wQURs"
      },
      "source": [
        "The inclusion-exclusion principle says that for three sets $A$, $B$ and $C$, \n",
        "\n",
        "$$|A\\cup B\\cup C|=|A|+|B|+|C|-|A\\cap B|-|B\\cap C|-|C\\cap A|+|A\\cap B\\cap C|$$\n",
        "\n",
        "We will write the following functions to determine $|A\\cup B\\cup C|$ in two different ways."
      ]
    },
    {
      "cell_type": "markdown",
      "metadata": {
        "id": "0VACcw2DQURt"
      },
      "source": [
        "### Problem 2.1"
      ]
    },
    {
      "cell_type": "markdown",
      "metadata": {
        "id": "3PeRk5JOQURt"
      },
      "source": [
        "Write function **union3** that first determines $A\\cup B\\cup C$ and then evaluates the size of this union.\n",
        "Output the tuple $(A\\cup B\\cup C, |A\\cup B\\cup C|)$.\n",
        "\n",
        "<font  style=\"color:blue\"> * **Sample run:** *</font>\n",
        "```python\n",
        "A = {1, 2, 3, 4, 5}\n",
        "B = {0, 2, -6, 5, 8, 9}\n",
        "C = {2, 10}\n",
        "union3(A, B, C)\n",
        "```\n",
        "\n",
        "\n",
        "<font  style=\"color:magenta\"> * **Expected Output:** *</font>\n",
        "```\n",
        "({-6, 0, 1, 2, 3, 4, 5, 8, 9, 10}, 10)\n",
        "```"
      ]
    },
    {
      "cell_type": "code",
      "execution_count": 18,
      "metadata": {
        "collapsed": true,
        "scrolled": true,
        "id": "-x-mI3h7QURu"
      },
      "outputs": [],
      "source": [
        "# modify this cell\n",
        "\n",
        "def union3(A, B, C):\n",
        "    # inputs: A, B and C are of type 'set'\n",
        "    # output: a tuple of the type (set, set_length)\n",
        "    return (A|B|C, len(A|B|C))\n",
        "    #\n",
        "    # YOUR CODE HERE\n",
        "    #\n"
      ]
    },
    {
      "cell_type": "code",
      "execution_count": 19,
      "metadata": {
        "collapsed": true,
        "nbgrader": {
          "grade": true,
          "grade_id": "ex3",
          "locked": true,
          "points": "5",
          "solution": false
        },
        "id": "ijf-dljuQURv"
      },
      "outputs": [],
      "source": [
        "# check Function\n",
        "A = {1, 2, 4, 5, 10}\n",
        "B = {5, 2, -6, 5, 8, 9}\n",
        "C = {2, 10, 13}\n",
        "assert union3(A,B,C) == ({-6, 1, 2, 4, 5, 8, 9, 10, 13}, 9)\n",
        "\n",
        "#\n",
        "# AUTOGRADER TEST - DO NOT REMOVE\n",
        "#\n"
      ]
    },
    {
      "cell_type": "code",
      "source": [
        "A = {-2,0,5, \"bob\"}\n",
        "B = {-2,0,5,10,\"jill\"}\n",
        "C={-2,0,3,5,10}\n",
        "print(union3(A,B,C))"
      ],
      "metadata": {
        "colab": {
          "base_uri": "https://localhost:8080/"
        },
        "id": "q0xPoXMMSKAS",
        "outputId": "71b618ba-688a-4d5f-d01b-e22b7f282a1a"
      },
      "execution_count": 20,
      "outputs": [
        {
          "output_type": "stream",
          "name": "stdout",
          "text": [
            "({0, 'jill', 3, 5, 10, 'bob', -2}, 7)\n"
          ]
        }
      ]
    },
    {
      "cell_type": "markdown",
      "metadata": {
        "id": "0Tw-jvrjQURw"
      },
      "source": [
        "### Problem 2.2"
      ]
    },
    {
      "cell_type": "markdown",
      "metadata": {
        "id": "u1fj44zdQURw"
      },
      "source": [
        "A function **inclusion_exclusion3** that first deterimines the sizes of $A$, $B$, $C$ and their mutual intersections, and then uses the inclusion-exclusion principle to determine the size of the union. Output the tuple $(|A\\cap B\\cap C|, |A\\cup B\\cup C|)$. Note that for brevity we are asking you to output the intermediate answer just for $A\\cap B\\cap C$, but you need to calculate all. \n",
        "\n",
        "<font  style=\"color:blue\"> * **Sample run:** *</font>\n",
        "```python\n",
        "A = {1, 2, 3, 4, 5}\n",
        "B = {0, 2, -6, 5, 8, 9}\n",
        "C = {2, 10}\n",
        "print inclusion_exclusion3(A, B, C)\n",
        "```\n",
        "\n",
        "\n",
        "<font  style=\"color:magenta\"> * **Expected Output:** *</font>\n",
        "```\n",
        "(1, 10)\n",
        "```"
      ]
    },
    {
      "cell_type": "code",
      "execution_count": 21,
      "metadata": {
        "collapsed": true,
        "id": "cPkxFpwzQUR7"
      },
      "outputs": [],
      "source": [
        "# modify this cell\n",
        "\n",
        "def inclusion_exclusion3(A, B, C):\n",
        "    return (len(A&B&C),len(A)+len(B)+len(C)-len(A&B)-len(A&C)-len(B&C)+len(A&B&C))\n"
      ]
    },
    {
      "cell_type": "code",
      "source": [
        "A = {-2,0,5, \"bob\"}\n",
        "B = {-2,0,5,10,\"jill\"}\n",
        "C={-2,0,3,5,10}\n",
        "inclusion_exclusion3(A, B, C)"
      ],
      "metadata": {
        "colab": {
          "base_uri": "https://localhost:8080/"
        },
        "id": "vyaL_dPkS63c",
        "outputId": "685b9db4-ffca-4cee-c8ba-5a6f3b3d159e"
      },
      "execution_count": 22,
      "outputs": [
        {
          "output_type": "execute_result",
          "data": {
            "text/plain": [
              "(3, 7)"
            ]
          },
          "metadata": {},
          "execution_count": 22
        }
      ]
    },
    {
      "cell_type": "code",
      "execution_count": 23,
      "metadata": {
        "collapsed": true,
        "nbgrader": {
          "grade": true,
          "grade_id": "ex4",
          "locked": true,
          "points": "5",
          "solution": false
        },
        "id": "CWsGnphuQUR8"
      },
      "outputs": [],
      "source": [
        "# Check Function\n",
        "\n",
        "A = {1, 2, 4, 5, 10}\n",
        "B = {5, 2, -6, 5, 8, 9, 10}\n",
        "C = {2, 10, 13}\n",
        "assert inclusion_exclusion3(A,B,C) == (2, 9)\n",
        "\n",
        "#\n",
        "# AUTOGRADER TEST - DO NOT REMOVE\n",
        "#\n"
      ]
    }
  ],
  "metadata": {
    "kernelspec": {
      "display_name": "Python [default]",
      "language": "python",
      "name": "python3"
    },
    "language_info": {
      "codemirror_mode": {
        "name": "ipython",
        "version": 3
      },
      "file_extension": ".py",
      "mimetype": "text/x-python",
      "name": "python",
      "nbconvert_exporter": "python",
      "pygments_lexer": "ipython3",
      "version": "3.6.2"
    },
    "toc": {
      "base_numbering": 1,
      "nav_menu": {
        "height": "48px",
        "width": "252px"
      },
      "number_sections": true,
      "sideBar": true,
      "skip_h1_title": false,
      "title_cell": "Table of Contents",
      "title_sidebar": "Contents",
      "toc_cell": false,
      "toc_position": {},
      "toc_section_display": "block",
      "toc_window_display": false
    },
    "varInspector": {
      "cols": {
        "lenName": 16,
        "lenType": 16,
        "lenVar": 40
      },
      "kernels_config": {
        "python": {
          "delete_cmd_postfix": "",
          "delete_cmd_prefix": "del ",
          "library": "var_list.py",
          "varRefreshCmd": "print(var_dic_list())"
        },
        "r": {
          "delete_cmd_postfix": ") ",
          "delete_cmd_prefix": "rm(",
          "library": "var_list.r",
          "varRefreshCmd": "cat(var_dic_list()) "
        }
      },
      "types_to_exclude": [
        "module",
        "function",
        "builtin_function_or_method",
        "instance",
        "_Feature"
      ],
      "window_display": false
    },
    "colab": {
      "provenance": [],
      "include_colab_link": true
    }
  },
  "nbformat": 4,
  "nbformat_minor": 0
}