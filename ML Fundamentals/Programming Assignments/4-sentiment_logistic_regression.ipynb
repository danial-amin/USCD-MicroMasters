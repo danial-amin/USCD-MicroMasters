{
  "cells": [
    {
      "cell_type": "markdown",
      "metadata": {
        "id": "view-in-github",
        "colab_type": "text"
      },
      "source": [
        "<a href=\"https://colab.research.google.com/github/danial-amin/USCD-MicroMasters/blob/main/ML%20Fundamentals/Programming%20Assignments/4-sentiment_logistic_regression.ipynb\" target=\"_parent\"><img src=\"https://colab.research.google.com/assets/colab-badge.svg\" alt=\"Open In Colab\"/></a>"
      ]
    },
    {
      "cell_type": "markdown",
      "metadata": {
        "id": "QCfXkuZTIMtA"
      },
      "source": [
        "# Sentiment analysis using logistic regression"
      ]
    },
    {
      "cell_type": "markdown",
      "metadata": {
        "id": "hu63y_kBIMtE"
      },
      "source": [
        "The **`sentiment`** data set consists of 3000 sentences which come from reviews on `imdb.com`, `amazon.com`, and `yelp.com`. Each sentence is labeled according to whether it comes from a positive review or negative review.\n",
        "\n",
        "We will use <font color=\"magenta\">logistic regression</font> to learn a classifier from this data.\n",
        "\n",
        "Before starting on this notebook, download the data from https://archive.ics.uci.edu/ml/datasets/Sentiment+Labelled+Sentences. The folder `sentiment_labelled_sentences` (containing the data file `full_set.txt`) should be in the same directory as the notebook."
      ]
    },
    {
      "cell_type": "markdown",
      "metadata": {
        "id": "jFNws5bXIMtF"
      },
      "source": [
        "## 1. Set up notebook, load and preprocess data"
      ]
    },
    {
      "cell_type": "markdown",
      "metadata": {
        "id": "2vgmoN3zIMtG"
      },
      "source": [
        "First, some standard includes."
      ]
    },
    {
      "cell_type": "code",
      "execution_count": 1,
      "metadata": {
        "id": "dy6VA47hIMtG"
      },
      "outputs": [],
      "source": [
        "%matplotlib inline\n",
        "import string\n",
        "import numpy as np\n",
        "import matplotlib\n",
        "import matplotlib.pyplot as plt\n",
        "matplotlib.rc('xtick', labelsize=14) \n",
        "matplotlib.rc('ytick', labelsize=14)"
      ]
    },
    {
      "cell_type": "markdown",
      "metadata": {
        "id": "nbWzSzZMIMtJ"
      },
      "source": [
        "Now, we load in the data. Make sure the notebook is the same directory as the folder `sentiment_labelled_sentences`, and that the folder contains `full_set.txt`.\n",
        "\n",
        "The data set consists of 3000 sentences, each labeled '1' (if it came from a positive review) or '0' (if it came from a negative review). To be consistent with our notation from lecture, we will change the negative review label to '-1'."
      ]
    },
    {
      "cell_type": "code",
      "execution_count": 2,
      "metadata": {
        "id": "rpOOu9kxIMtK"
      },
      "outputs": [],
      "source": [
        "## Read in the data set.\n",
        "with open(\"full_set.txt\") as f:\n",
        "    content = f.readlines()\n",
        "    \n",
        "## Remove leading and trailing white space\n",
        "content = [x.strip() for x in content]\n",
        "\n",
        "## Separate the sentences from the labels\n",
        "sentences = [x.split(\"\\t\")[0] for x in content]\n",
        "labels = [x.split(\"\\t\")[1] for x in content]\n",
        "\n",
        "## Transform the labels from '0 v.s. 1' to '-1 v.s. 1'\n",
        "y = np.array(labels, dtype='int8')\n",
        "y = 2*y - 1"
      ]
    },
    {
      "cell_type": "markdown",
      "metadata": {
        "id": "oBpBNPl_IMtL"
      },
      "source": [
        "### Preprocessing the text data\n",
        "\n",
        "To transform this prediction problem into one amenable to linear classification, we will first need to preprocess the text data. We will do four transformations:\n",
        "\n",
        "1. Remove punctuation and numbers.\n",
        "2. Transform all words to lower-case.\n",
        "3. Remove _stop words_.\n",
        "4. Convert the sentences into vectors, using a bag-of-words representation.\n",
        "\n",
        "We begin with first two steps."
      ]
    },
    {
      "cell_type": "code",
      "execution_count": 3,
      "metadata": {
        "id": "pJiHN3TYIMtL"
      },
      "outputs": [],
      "source": [
        "## full_remove takes a string x and a list of characters removal_list \n",
        "## returns x with all the characters in removal_list replaced by ' '\n",
        "def full_remove(x, removal_list):\n",
        "    for w in removal_list:\n",
        "        x = x.replace(w, ' ')\n",
        "    return x\n",
        "\n",
        "## Remove digits\n",
        "digits = [str(x) for x in range(10)]\n",
        "digit_less = [full_remove(x, digits) for x in sentences]\n",
        "\n",
        "## Remove punctuation\n",
        "punc_less = [full_remove(x, list(string.punctuation)) for x in digit_less]\n",
        "\n",
        "## Make everything lower-case\n",
        "sents_lower = [x.lower() for x in punc_less]"
      ]
    },
    {
      "cell_type": "markdown",
      "metadata": {
        "id": "IDcA-9uwIMtM"
      },
      "source": [
        "### Stop words\n",
        "\n",
        "Stop words are words that are filtered out because they are believed to contain no useful information for the task at hand. These usually include articles such as 'a' and 'the', pronouns such as 'i' and 'they', and prepositions such 'to' and 'from'. We have put together a very small list of stop words, but these are by no means comprehensive. Feel free to use something different; for instance, larger lists can easily be found on the web."
      ]
    },
    {
      "cell_type": "code",
      "execution_count": 4,
      "metadata": {
        "id": "cZuRMbU8IMtM"
      },
      "outputs": [],
      "source": [
        "## Define our stop words\n",
        "stop_set = set(['the', 'a', 'an', 'i', 'he', 'she', 'they', 'to', 'of', 'it', 'from'])\n",
        "\n",
        "## Remove stop words\n",
        "sents_split = [x.split() for x in sents_lower]\n",
        "sents_processed = [\" \".join(list(filter(lambda a: a not in stop_set, x))) for x in sents_split]"
      ]
    },
    {
      "cell_type": "markdown",
      "metadata": {
        "id": "GTsp-szzIMtN"
      },
      "source": [
        "What do the sentences look like so far?"
      ]
    },
    {
      "cell_type": "code",
      "execution_count": 5,
      "metadata": {
        "colab": {
          "base_uri": "https://localhost:8080/"
        },
        "id": "nkt5-2-oIMtN",
        "outputId": "5e345a0d-856c-4180-dc56-89c32a6c24b3"
      },
      "outputs": [
        {
          "output_type": "execute_result",
          "data": {
            "text/plain": [
              "['so there is no way for me plug in here in us unless go by converter',\n",
              " 'good case excellent value',\n",
              " 'great for jawbone',\n",
              " 'tied charger for conversations lasting more than minutes major problems',\n",
              " 'mic is great',\n",
              " 'have jiggle plug get line up right get decent volume',\n",
              " 'if you have several dozen or several hundred contacts then imagine fun sending each them one by one',\n",
              " 'if you are razr owner you must have this',\n",
              " 'needless say wasted my money',\n",
              " 'what waste money and time']"
            ]
          },
          "metadata": {},
          "execution_count": 5
        }
      ],
      "source": [
        "sents_processed[0:10]"
      ]
    },
    {
      "cell_type": "markdown",
      "metadata": {
        "id": "-eibsqwpIMtN"
      },
      "source": [
        "### Bag of words\n",
        "\n",
        "In order to use linear classifiers on our data set, we need to transform our textual data into numeric data. The classical way to do this is known as the _bag of words_ representation. \n",
        "\n",
        "In this representation, each word is thought of as corresponding to a number in `{1, 2, ..., V}` where `V` is the size of our vocabulary. And each sentence is represented as a V-dimensional vector $x$, where $x_i$ is the number of times that word $i$ occurs in the sentence.\n",
        "\n",
        "To do this transformation, we will make use of the `CountVectorizer` class in `scikit-learn`. We will cap the number of features at 4500, meaning a word will make it into our vocabulary only if it is one of the 4500 most common words in the corpus. This is often a useful step as it can weed out spelling mistakes and words which occur too infrequently to be useful.\n",
        "\n",
        "Finally, we will also append a '1' to the end of each vector to allow our linear classifier to learn a bias term."
      ]
    },
    {
      "cell_type": "code",
      "execution_count": 6,
      "metadata": {
        "id": "H_FWjHiKIMtO"
      },
      "outputs": [],
      "source": [
        "from sklearn.feature_extraction.text import CountVectorizer\n",
        "\n",
        "## Transform to bag of words representation.\n",
        "vectorizer = CountVectorizer(analyzer = \"word\", tokenizer = None, preprocessor = None, stop_words = None, max_features = 4500)\n",
        "data_features = vectorizer.fit_transform(sents_processed)\n",
        "\n",
        "## Append '1' to the end of each vector.\n",
        "data_mat = data_features.toarray()\n",
        "\n",
        "#p_mat = data_features.toarray()\n",
        "#data_mat = np.ones((p_mat.shape[0], p_mat.shape[1]+1))\n",
        "#data_mat[:,:-1] = p_mat"
      ]
    },
    {
      "cell_type": "markdown",
      "metadata": {
        "id": "dLCqENM3IMtP"
      },
      "source": [
        "### Training / test split\n",
        "\n",
        "Finally, we split the data into a training set of 2500 sentences and a test set of 500 sentences (of which 250 are positive and 250 negative)."
      ]
    },
    {
      "cell_type": "code",
      "execution_count": 7,
      "metadata": {
        "colab": {
          "base_uri": "https://localhost:8080/"
        },
        "id": "GXq9bLqdIMtP",
        "outputId": "fc9b75c4-1640-46a5-dd96-73d8157fb519"
      },
      "outputs": [
        {
          "output_type": "stream",
          "name": "stdout",
          "text": [
            "train data:  (2500, 4500)\n",
            "test data:  (500, 4500)\n"
          ]
        }
      ],
      "source": [
        "## Split the data into testing and training sets\n",
        "np.random.seed(0)\n",
        "test_inds = np.append(np.random.choice((np.where(y==-1))[0], 250, replace=False), np.random.choice((np.where(y==1))[0], 250, replace=False))\n",
        "train_inds = list(set(range(len(labels))) - set(test_inds))\n",
        "\n",
        "train_data = data_mat[train_inds,]\n",
        "train_labels = y[train_inds]\n",
        "\n",
        "test_data = data_mat[test_inds,]\n",
        "test_labels = y[test_inds]\n",
        "\n",
        "print(\"train data: \", train_data.shape)\n",
        "print(\"test data: \", test_data.shape)"
      ]
    },
    {
      "cell_type": "markdown",
      "metadata": {
        "id": "9g4MoJc-IMtQ"
      },
      "source": [
        "## 2. Fitting a logistic regression model to the training data\n",
        "\n",
        "We could implement our own logistic regression solver using stochastic gradient descent, but fortunately, there is already one built into `scikit-learn`.\n",
        "\n",
        "Due to the randomness in the SGD procedure, different runs can yield slightly different solutions (and thus different error values)."
      ]
    },
    {
      "cell_type": "code",
      "execution_count": 8,
      "metadata": {
        "colab": {
          "base_uri": "https://localhost:8080/"
        },
        "id": "ucj64NiKIMtQ",
        "outputId": "0debb604-f5c2-4187-bb8d-e7ee8355d9c0"
      },
      "outputs": [
        {
          "output_type": "stream",
          "name": "stdout",
          "text": [
            "Training error:  0.0016\n",
            "Test error:  0.176\n"
          ]
        }
      ],
      "source": [
        "from sklearn.linear_model import SGDClassifier\n",
        "\n",
        "## Fit logistic classifier on training data\n",
        "clf = SGDClassifier(loss=\"log\", penalty=\"none\")\n",
        "clf.fit(train_data, train_labels)\n",
        "\n",
        "## Pull out the parameters (w,b) of the logistic regression model\n",
        "w = clf.coef_[0,:]\n",
        "b = clf.intercept_\n",
        "\n",
        "## Get predictions on training and test data\n",
        "preds_train = clf.predict(train_data)\n",
        "preds_test = clf.predict(test_data)\n",
        "\n",
        "## Compute errors\n",
        "errs_train = np.sum((preds_train > 0.0) != (train_labels > 0.0))\n",
        "errs_test = np.sum((preds_test > 0.0) != (test_labels > 0.0))\n",
        "\n",
        "print(\"Training error: \", float(errs_train)/len(train_labels))\n",
        "print(\"Test error: \", float(errs_test)/len(test_labels))"
      ]
    },
    {
      "cell_type": "markdown",
      "metadata": {
        "id": "3tkj4_8UIMtQ"
      },
      "source": [
        "## 3. Analyzing the margin\n",
        "\n",
        "The logistic regression model produces not just classifications but also conditional probability estimates. \n",
        "\n",
        "We will say that `x` has **margin** `gamma` if (according to the logistic regression model) `Pr(y=1|x) > (1/2)+gamma` or `Pr(y=1|x) < (1/2)-gamma`. The following function **margin_counts** takes as input the classifier (`clf`, computed earlier), the test set (`test_data`), and a value of `gamma`, and computes how many points in the test set have margin at least `gamma`."
      ]
    },
    {
      "cell_type": "code",
      "execution_count": 9,
      "metadata": {
        "id": "3VnKmkEEIMtR"
      },
      "outputs": [],
      "source": [
        "## Return number of test points for which Pr(y=1) lies in [0, 0.5 - gamma) or (0.5 + gamma, 1]\n",
        "def margin_counts(clf, test_data, gamma):\n",
        "    ## Compute probability on each test point\n",
        "    preds = clf.predict_proba(test_data)[:,1]\n",
        "    ## Find data points for which prediction is at least gamma away from 0.5\n",
        "    margin_inds = np.where((preds > (0.5+gamma)) | (preds < (0.5-gamma)))[0]\n",
        "    \n",
        "    return float(len(margin_inds))"
      ]
    },
    {
      "cell_type": "markdown",
      "metadata": {
        "id": "NcDkng8MIMtR"
      },
      "source": [
        "We now visualize the test set's distribution of margin values."
      ]
    },
    {
      "cell_type": "code",
      "execution_count": 10,
      "metadata": {
        "colab": {
          "base_uri": "https://localhost:8080/",
          "height": 290
        },
        "id": "p0eW5Rz2IMtR",
        "outputId": "f342b93d-255a-4c49-b9be-b986af30b7ca"
      },
      "outputs": [
        {
          "output_type": "display_data",
          "data": {
            "text/plain": [
              "<Figure size 432x288 with 1 Axes>"
            ],
            "image/png": "[encoded data removed]"
          },
          "metadata": {
            "needs_background": "light"
          }
        }
      ],
      "source": [
        "gammas = np.arange(0,0.5,0.01)\n",
        "f = np.vectorize(lambda g: margin_counts(clf, test_data, g))\n",
        "plt.plot(gammas, f(gammas)/500.0, linewidth=2, color='green')\n",
        "plt.xlabel('Margin', fontsize=14)\n",
        "plt.ylabel('Fraction of points above margin', fontsize=14)\n",
        "plt.show()"
      ]
    },
    {
      "cell_type": "markdown",
      "metadata": {
        "id": "7ANqNw1tIMtS"
      },
      "source": [
        "Next, we investigate a natural question: <font color=\"magenta\">Are points `x` with larger margin more likely to be classified correctly?</font>\n",
        "\n",
        "To address this, we define a function **margin_errors** that computes the fraction of points with margin at least `gamma` that are misclassified."
      ]
    },
    {
      "cell_type": "code",
      "execution_count": 11,
      "metadata": {
        "id": "duoFHAMQIMtS"
      },
      "outputs": [],
      "source": [
        "## Return error of predictions that lie in intervals [0, 0.5 - gamma) and (0.5 + gamma, 1]\n",
        "def margin_errors(clf, test_data, test_labels, gamma):\n",
        "    ## Compute probability on each test point\n",
        "    preds = clf.predict_proba(test_data)[:,1]\n",
        "    \n",
        "    ## Find data points for which prediction is at least gamma away from 0.5\n",
        "    margin_inds = np.where((preds > (0.5+gamma)) | (preds < (0.5-gamma)))[0]\n",
        "    \n",
        "    ## Compute error on those data points.\n",
        "    num_errors = np.sum((preds[margin_inds] > 0.5) != (test_labels[margin_inds] > 0.0))\n",
        "    return float(num_errors)/len(margin_inds)"
      ]
    },
    {
      "cell_type": "markdown",
      "metadata": {
        "id": "a2wdEe6RIMtT"
      },
      "source": [
        "We now visualize the relationship between margin and error rate."
      ]
    },
    {
      "cell_type": "code",
      "execution_count": 12,
      "metadata": {
        "colab": {
          "base_uri": "https://localhost:8080/",
          "height": 287
        },
        "id": "XWIR__lLIMtT",
        "outputId": "dd98e290-b0f4-4ddf-c942-0d7f71bba515"
      },
      "outputs": [
        {
          "output_type": "display_data",
          "data": {
            "text/plain": [
              "<Figure size 432x288 with 1 Axes>"
            ],
            "image/png": "[encoded data removed]"
          },
          "metadata": {
            "needs_background": "light"
          }
        }
      ],
      "source": [
        "## Create grid of gamma values\n",
        "gammas = np.arange(0, 0.5, 0.01)\n",
        "\n",
        "## Compute margin_errors on test data for each value of g\n",
        "f = np.vectorize(lambda g: margin_errors(clf, test_data, test_labels, g))\n",
        "\n",
        "## Plot the result\n",
        "plt.plot(gammas, f(gammas), linewidth=2)\n",
        "plt.ylabel('Error rate', fontsize=14)\n",
        "plt.xlabel('Margin', fontsize=14)\n",
        "plt.show()"
      ]
    },
    {
      "cell_type": "markdown",
      "metadata": {
        "id": "PcyESXLtIMtT"
      },
      "source": [
        "## 4. Words with large influence\n",
        "\n",
        "Finally, we attempt to partially **interpret** the logistic regression model.\n",
        "\n",
        "Which words are most important in deciding whether a sentence is positive? As a first approximation to this, we simply take the words whose coefficients in `w` have the largest positive values.\n",
        "\n",
        "Likewise, we look at the words whose coefficients in `w` have the most negative values, and we think of these as influential in negative predictions."
      ]
    },
    {
      "cell_type": "code",
      "execution_count": 13,
      "metadata": {
        "colab": {
          "base_uri": "https://localhost:8080/"
        },
        "id": "3mv0jePKIMtT",
        "outputId": "971bfa56-ea47-472b-f5a7-2856beff7d63"
      },
      "outputs": [
        {
          "output_type": "stream",
          "name": "stdout",
          "text": [
            "Highly negative words: \n",
            "['sucks', 'worst', 'poor', 'avoid', 'bad', 'aren', 'bland', 'pm', 'rude', 'disappointment', 'started', 'unfortunately', 'directing', 'slow', 'mediocre', 'wasn', 'wasted', 'minutes', 'then', 'ok', 'stereotypes', 'return', 'stupid', 'wife', 'fly', 'waste', 'fails', 'racial', 'literally', 'looks', 'another', 'ripped', 'picture', 'dishes', 'within', 'boring', 'make', 'torture', 'awful', 'guess', 'flat', 'green', 'low', 'sitting', 'disappointing', 'put', 'depth', 'year', 'didn', 'par']\n",
            "\n",
            "Highly positive words: \n",
            "['screamy', 'masculine', 'art', 'struggle', 'tom', 'easy', 'best', 'brings', 'happier', 'funny', 'wow', 'parts', 'definitely', 'enjoyed', 'scottsdale', 'cult', 'plays', 'beer', 'incredible', 'angel', 'years', 'ponyo', 'either', 'lovely', 'sex', 'family', 'hope', 'occasionally', 'amazing', 'decent', 'love', 'cool', 'exactly', 'fun', 'joy', 'scamp', 'works', 'great', 'awesome', 'delicious', 'loved', 'excellent', 'liked', 'fantastic', 'interesting', 'beautiful', 'comfortable', 'nice']\n"
          ]
        }
      ],
      "source": [
        "## Convert vocabulary into a list:\n",
        "vocab = np.array([z[0] for z in sorted(vectorizer.vocabulary_.items(), key=lambda x:x[1])])\n",
        "\n",
        "## Get indices of sorting w\n",
        "inds = np.argsort(w)\n",
        "\n",
        "## Words with large negative values\n",
        "neg_inds = inds[0:50]\n",
        "print(\"Highly negative words: \")\n",
        "print([str(x) for x in list(vocab[neg_inds])])\n",
        "\n",
        "## Words with large positive values\n",
        "pos_inds = inds[-49:-1]\n",
        "print(\"\\nHighly positive words: \")\n",
        "print([str(x) for x in list(vocab[pos_inds])])"
      ]
    },
    {
      "cell_type": "markdown",
      "metadata": {
        "id": "VtbHC4rUIMtW"
      },
      "source": [
        "## 5. Something for you to think about\n",
        "\n",
        "Suppose you are building a classifier, and can tolerate an error rate of at most some value `e`. Unfortunately, every classifier you try has a higher error than this. \n",
        "\n",
        "Therefore, you decide that the classifier is allowed to occasionally **abstain**: that is, to say *\"don't know\"*. When it actually makes a prediction, it must have error rate at most `e`. And subject to this constraint, it should abstain as infrequently as possible.\n",
        "\n",
        "How would you build an abstaining classifier of this kind, starting from a logistic regression model?"
      ]
    },
    {
      "cell_type": "code",
      "execution_count": 13,
      "metadata": {
        "id": "Xfgk2LcfIMtW"
      },
      "outputs": [],
      "source": []
    }
  ],
  "metadata": {
    "anaconda-cloud": {},
    "kernelspec": {
      "display_name": "Python 3",
      "language": "python",
      "name": "python3"
    },
    "language_info": {
      "codemirror_mode": {
        "name": "ipython",
        "version": 3
      },
      "file_extension": ".py",
      "mimetype": "text/x-python",
      "name": "python",
      "nbconvert_exporter": "python",
      "pygments_lexer": "ipython3",
      "version": "3.7.4"
    },
    "toc": {
      "colors": {
        "hover_highlight": "#DAA520",
        "navigate_num": "#000000",
        "navigate_text": "#333333",
        "running_highlight": "#FF0000",
        "selected_highlight": "#FFD700",
        "sidebar_border": "#EEEEEE",
        "wrapper_background": "#FFFFFF"
      },
      "moveMenuLeft": true,
      "nav_menu": {
        "height": "12px",
        "width": "252px"
      },
      "navigate_menu": true,
      "number_sections": false,
      "sideBar": true,
      "threshold": 4,
      "toc_cell": false,
      "toc_section_display": "block",
      "toc_window_display": false,
      "widenNotebook": false
    },
    "colab": {
      "provenance": [],
      "include_colab_link": true
    }
  },
  "nbformat": 4,
  "nbformat_minor": 0
}