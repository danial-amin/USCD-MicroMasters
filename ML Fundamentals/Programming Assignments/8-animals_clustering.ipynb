{
  "cells": [
    {
      "cell_type": "markdown",
      "metadata": {
        "id": "view-in-github",
        "colab_type": "text"
      },
      "source": [
        "<a href=\"https://colab.research.google.com/github/danial-amin/USCD-MicroMasters/blob/main/ML%20Fundamentals/Programming%20Assignments/8-animals_clustering.ipynb\" target=\"_parent\"><img src=\"https://colab.research.google.com/assets/colab-badge.svg\" alt=\"Open In Colab\"/></a>"
      ]
    },
    {
      "cell_type": "markdown",
      "metadata": {
        "id": "W_nmdymTm1OQ"
      },
      "source": [
        "# Clustering animals with attributes"
      ]
    },
    {
      "cell_type": "markdown",
      "metadata": {
        "id": "A1WYz1Zpm1OS"
      },
      "source": [
        "In this notebook, we'll get a feel for clustering by applying <font color=\"magenta\">**k-means**</font> and <font color=\"magenta\">**average linkage**</font> to cluster a collection of animals.\n",
        "\n",
        "The data set we'll work with is called `Animals with Attributes`. It contains information about 50 animals. For each, it has 85 real-valued features that capture various properties of the animal: where it lives, what it eats, and so on. You can download the data set from:\n",
        "\n",
        "http://attributes.kyb.tuebingen.mpg.de\n",
        "\n",
        "(Under \"Downloads\", choose the \"base package\".) Make sure the files `'classes.txt'` and `'predicate-matrix-continuous.txt'` are in the same directory as this notebook before you begin."
      ]
    },
    {
      "cell_type": "markdown",
      "metadata": {
        "id": "TkuP3lhUm1OT"
      },
      "source": [
        "## 1. Load in the data set"
      ]
    },
    {
      "cell_type": "code",
      "source": [
        "!wget -O data.tar.bz2 http://attributes.kyb.tuebingen.mpg.de/AwA-base.tar.bz2\n",
        "    \n",
        "# -C changes to the specified directory before unpacking (or packing). \n",
        "# --strip-components removes the specified number of directories from the filenames stored in the archive.\n",
        "\n",
        "!mkdir data && tar xf data.tar.bz2 -C data --strip-components 1\n",
        "\n",
        "# Looking at various text files and removing old zipped file\n",
        "!ls data && rm data.tar.bz2"
      ],
      "metadata": {
        "colab": {
          "base_uri": "https://localhost:8080/"
        },
        "id": "ivAfXGsAoOIa",
        "outputId": "9fb690a5-6c88-450d-8d3d-b61a62a5fb3e"
      },
      "execution_count": 1,
      "outputs": [
        {
          "output_type": "stream",
          "name": "stdout",
          "text": [
            "--2022-12-18 19:06:50--  http://attributes.kyb.tuebingen.mpg.de/AwA-base.tar.bz2\n",
            "Resolving attributes.kyb.tuebingen.mpg.de (attributes.kyb.tuebingen.mpg.de)... 192.124.27.50\n",
            "Connecting to attributes.kyb.tuebingen.mpg.de (attributes.kyb.tuebingen.mpg.de)|192.124.27.50|:80... connected.\n",
            "HTTP request sent, awaiting response... 200 OK\n",
            "Length: 1062822 (1.0M) [application/x-bzip2]\n",
            "Saving to: ‘data.tar.bz2’\n",
            "\n",
            "data.tar.bz2        100%[===================>]   1.01M   737KB/s    in 1.4s    \n",
            "\n",
            "2022-12-18 19:06:53 (737 KB/s) - ‘data.tar.bz2’ saved [1062822/1062822]\n",
            "\n",
            "classes.txt\t\t     predicate-matrix-continuous.txt  testclasses.txt\n",
            "Features\t\t     predicate-matrix.png\t      trainclasses.txt\n",
            "lampert-cvpr2009.pdf\t     predicates.txt\n",
            "predicate-matrix-binary.txt  README-attributes.txt\n"
          ]
        }
      ]
    },
    {
      "cell_type": "markdown",
      "metadata": {
        "id": "OfPc9efTm1OT"
      },
      "source": [
        "Standard includes as well as some modules for k-means and hierarchical clustering."
      ]
    },
    {
      "cell_type": "code",
      "execution_count": 2,
      "metadata": {
        "id": "RVhVmcAsm1OU"
      },
      "outputs": [],
      "source": [
        "%matplotlib inline\n",
        "import matplotlib\n",
        "import matplotlib.pyplot\n",
        "import numpy as np\n",
        "import scipy.cluster.hierarchy as sch\n",
        "from sklearn.cluster import KMeans"
      ]
    },
    {
      "cell_type": "markdown",
      "metadata": {
        "id": "a7ShXGXum1OV"
      },
      "source": [
        "Load in the data set. The file `'classes.txt'` contains the names of the 50 animals. The file `'predicate-matrix-continuous.txt'` contains the data itself: 85 attributes per animal."
      ]
    },
    {
      "cell_type": "code",
      "execution_count": 3,
      "metadata": {
        "id": "iVAnl7kEm1OV"
      },
      "outputs": [],
      "source": [
        "#\n",
        "# Load in animal names\n",
        "#\n",
        "f = open('data/classes.txt')\n",
        "lines = f.readlines()\n",
        "names = []\n",
        "for line in lines:\n",
        "    (key,val) = line.split()\n",
        "    names.append(val)\n",
        "f.close()\n",
        "#\n",
        "# Load attribute matrix\n",
        "#\n",
        "x = np.loadtxt('data/predicate-matrix-continuous.txt')"
      ]
    },
    {
      "cell_type": "markdown",
      "metadata": {
        "id": "gE3O7hyLm1OW"
      },
      "source": [
        "## 2. K-means clustering"
      ]
    },
    {
      "cell_type": "markdown",
      "metadata": {
        "id": "xoL9scWZm1OW"
      },
      "source": [
        "We now run Lloyd's algorithm to obtain a flat clustering of the data. In the code below, we ask for k=15 clusters, but you should experiment with other choices.\n",
        "\n",
        "We ask for random initialization, which means that different runs of the algorithm will potentially have different outcomes. It is worth running the algorithm several times to see how the results change."
      ]
    },
    {
      "cell_type": "code",
      "execution_count": 10,
      "metadata": {
        "colab": {
          "base_uri": "https://localhost:8080/"
        },
        "id": "7B2r8QCHm1OX",
        "outputId": "a59bc08a-fb63-40ae-eb81-5f0fdd152179"
      },
      "outputs": [
        {
          "output_type": "stream",
          "name": "stdout",
          "text": [
            "1 ['beaver', 'mole', 'hamster', 'rabbit', 'mouse']\n",
            "2 ['grizzly+bear', 'polar+bear']\n",
            "3 ['blue+whale', 'humpback+whale']\n",
            "4 ['skunk', 'squirrel', 'raccoon']\n",
            "5 ['killer+whale', 'seal', 'otter', 'walrus', 'dolphin']\n",
            "6 ['moose', 'ox', 'giant+panda', 'pig', 'cow']\n",
            "7 ['bat']\n",
            "8 ['antelope', 'sheep', 'buffalo']\n",
            "9 ['tiger', 'leopard', 'fox', 'wolf', 'bobcat', 'lion']\n",
            "10 ['rat']\n",
            "11 ['zebra']\n",
            "12 ['spider+monkey', 'gorilla', 'chimpanzee']\n",
            "13 ['dalmatian', 'persian+cat', 'german+shepherd', 'siamese+cat', 'chihuahua', 'weasel', 'collie']\n",
            "14 ['horse', 'giraffe', 'deer']\n",
            "15 ['hippopotamus', 'elephant', 'rhinoceros']\n"
          ]
        }
      ],
      "source": [
        "#\n",
        "# Run Lloyd's algorithm\n",
        "#\n",
        "k = 15 # number of clusters\n",
        "kmeans = KMeans(n_clusters=k, init='random')\n",
        "kmeans.fit(x)\n",
        "#\n",
        "# Get a list of the animals in each cluster\n",
        "#\n",
        "clusters = []\n",
        "for j in range(0,k):\n",
        "    clusters.append([])\n",
        "for i in range(0,50):\n",
        "    clusters[kmeans.labels_[i]].append(names[i])\n",
        "#\n",
        "# Print out clusters\n",
        "#\n",
        "for j in range(0,k):\n",
        "    print (j+1, clusters[j])"
      ]
    },
    {
      "cell_type": "markdown",
      "metadata": {
        "id": "SZnV6wzrm1OY"
      },
      "source": [
        "## 3. Hierarchical clustering"
      ]
    },
    {
      "cell_type": "markdown",
      "metadata": {
        "id": "vZKFSpTWm1OZ"
      },
      "source": [
        "We use the built-in hierarchical clustering module of `scipy` to apply Ward's method to our data. The resulting tree is often called a *dendrogram*, and the module also has a routine that can display one of these."
      ]
    },
    {
      "cell_type": "code",
      "execution_count": 7,
      "metadata": {
        "colab": {
          "base_uri": "https://localhost:8080/",
          "height": 592
        },
        "id": "SwoqqwGrm1OZ",
        "outputId": "99b7fca8-0fea-4f27-d0a1-170bef287186"
      },
      "outputs": [
        {
          "output_type": "display_data",
          "data": {
            "text/plain": [
              "<Figure size 360x720 with 1 Axes>"
            ],
            "image/png": "[encoded data removed]"
          },
          "metadata": {
            "needs_background": "light"
          }
        }
      ],
      "source": [
        "#\n",
        "# Adjust figure size to accommodate the full tree\n",
        "#\n",
        "from pylab import rcParams\n",
        "rcParams['figure.figsize'] = 5, 10\n",
        "#\n",
        "# Do hierarchical clustering using Ward's method\n",
        "#\n",
        "z = sch.linkage(x, method='ward')\n",
        "#\n",
        "# Display dendrogram\n",
        "#\n",
        "info = sch.dendrogram(z, orientation='left', labels=names, leaf_font_size=11)"
      ]
    },
    {
      "cell_type": "markdown",
      "metadata": {
        "id": "7lqgfD3nm1OZ"
      },
      "source": [
        "## 4. Questions to ponder"
      ]
    },
    {
      "cell_type": "markdown",
      "metadata": {
        "id": "VOlQcENim1Oa"
      },
      "source": [
        "Here are some things to think about:\n",
        "\n",
        "<font color=\"magenta\">Multiple runs of Lloyd's algorithm.</font>\n",
        "Lloyd's algorithm potentially returns a different solution each time it is run. Is there any reason to run it more than once? For instance, is there a sensible way of combining the information from several runs, of interpreting the similarities and differences?\n",
        "\n",
        "<font color=\"magenta\">Sensitivity to the choice of features.</font>\n",
        "Both clustering methods are highly sensitive to the choice of features. How would you feel if the results changed dramatically when just one or two features were dropped? \n",
        "\n",
        "<font color=\"magenta\">Criteria for success.</font>\n",
        "This is clearly an application in which we are hoping that clustering will discover 'natural groups' in the data. To what extent do the algorithms succeed at this? Are the clusters mostly reasonable? Can we, in general, hope that tha clustering will perfectly capture what we want? Under what conditions would we be pleased with the clustering?"
      ]
    },
    {
      "cell_type": "code",
      "execution_count": 5,
      "metadata": {
        "id": "GostHTYum1Oa"
      },
      "outputs": [],
      "source": []
    }
  ],
  "metadata": {
    "kernelspec": {
      "display_name": "Python 3",
      "language": "python",
      "name": "python3"
    },
    "language_info": {
      "codemirror_mode": {
        "name": "ipython",
        "version": 3
      },
      "file_extension": ".py",
      "mimetype": "text/x-python",
      "name": "python",
      "nbconvert_exporter": "python",
      "pygments_lexer": "ipython3",
      "version": "3.7.4"
    },
    "toc": {
      "colors": {
        "hover_highlight": "#DAA520",
        "navigate_num": "#000000",
        "navigate_text": "#333333",
        "running_highlight": "#FF0000",
        "selected_highlight": "#FFD700",
        "sidebar_border": "#EEEEEE",
        "wrapper_background": "#FFFFFF"
      },
      "moveMenuLeft": true,
      "nav_menu": {
        "height": "12px",
        "width": "252px"
      },
      "navigate_menu": true,
      "number_sections": false,
      "sideBar": true,
      "threshold": 4,
      "toc_cell": false,
      "toc_section_display": "block",
      "toc_window_display": false,
      "widenNotebook": false
    },
    "colab": {
      "provenance": [],
      "include_colab_link": true
    }
  },
  "nbformat": 4,
  "nbformat_minor": 0
}