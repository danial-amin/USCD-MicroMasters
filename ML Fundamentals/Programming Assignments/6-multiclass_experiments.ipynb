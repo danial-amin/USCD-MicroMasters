{
  "cells": [
    {
      "cell_type": "markdown",
      "metadata": {
        "id": "view-in-github",
        "colab_type": "text"
      },
      "source": [
        "<a href=\"https://colab.research.google.com/github/danial-amin/USCD-MicroMasters/blob/main/ML%20Fundamentals/Programming%20Assignments/6-multiclass_experiments.ipynb\" target=\"_parent\"><img src=\"https://colab.research.google.com/assets/colab-badge.svg\" alt=\"Open In Colab\"/></a>"
      ]
    },
    {
      "cell_type": "markdown",
      "metadata": {
        "id": "Uh2uvdrlPfaz"
      },
      "source": [
        "# Multiclass Perceptron and SVM"
      ]
    },
    {
      "cell_type": "markdown",
      "metadata": {
        "id": "lQZPg4N4Pfa9"
      },
      "source": [
        "In this notebook, we'll try out the multiclass Perceptron and SVM on small data sets."
      ]
    },
    {
      "cell_type": "markdown",
      "metadata": {
        "id": "9aUYoTx-Pfa9"
      },
      "source": [
        "## 1. Multiclass Perceptron"
      ]
    },
    {
      "cell_type": "markdown",
      "metadata": {
        "id": "RjU-tf95Pfa-"
      },
      "source": [
        "Let's start with the code for the multiclass Perceptron algorithm. This is similar in spirit to our earlier binary Perceptron algorithm, except that now there is a linear function for each class.\n",
        "\n",
        "If there are `k` classes, we will assume that they are numbered `0,1,...,k-1`. For `d`-dimensional data, the classifier will be parametrized by:\n",
        "* `w`: this is a `kxd` numpy array with one row for each class\n",
        "* `b`: this is a `k`-dimensional numpy array with one offset for each class\n",
        "\n",
        "Thus the linear function for class `j` (where `j` lies in the range `0` to `k-1`) is given by `w[j,:], b[j]`."
      ]
    },
    {
      "cell_type": "markdown",
      "metadata": {
        "id": "rOY5SSXZPfa_"
      },
      "source": [
        "The first procedure, **evaluate_classifier**, takes as input the parameters of a linear classifier (`w,b`) as well as a data point (`x`) and returns the prediction of that classifier at `x`."
      ]
    },
    {
      "cell_type": "code",
      "execution_count": 1,
      "metadata": {
        "id": "f0PdoJzOPfbA"
      },
      "outputs": [],
      "source": [
        "def evaluate_classifier(w,b,x):\n",
        "    k = len(b)\n",
        "    scores = np.zeros(k)\n",
        "    for j in range(k):\n",
        "        scores[j] = np.dot(w[j,:],x) + b[j]\n",
        "    return int(np.argmax(scores))"
      ]
    },
    {
      "cell_type": "markdown",
      "metadata": {
        "id": "LmbutbwgPfbC"
      },
      "source": [
        "Here is the multiclass Perceptron training procedure. It is invoked as follows:\n",
        "* `w,b,converged = train_multiclass_perceptron(x,y,k,n_iters)`\n",
        "\n",
        "where\n",
        "* `x`: n-by-d numpy array with n data points, each d-dimensional\n",
        "* `y`: n-dimensional numpy array with the labels (in the range `0` to `k-1`)\n",
        "* `k`: the number of classes\n",
        "* `n_iters`: the training procedure will run through the data at most this many times (default: 100)\n",
        "* `w,b`: parameters for the final linear classifier, as above\n",
        "* `converged`: flag (True/False) indicating whether the algorithm converged within the prescribed number of iterations\n",
        "\n",
        "If the data is not linearly separable, then the training procedure will not converge."
      ]
    },
    {
      "cell_type": "code",
      "execution_count": 2,
      "metadata": {
        "id": "LvHIRSJDPfbD"
      },
      "outputs": [],
      "source": [
        "def train_multiclass_perceptron(x,y,k,n_iters=100):\n",
        "    n,d = x.shape\n",
        "    w = np.zeros((k,d))\n",
        "    b = np.zeros(k)\n",
        "    done = False\n",
        "    converged = True\n",
        "    iters = 0\n",
        "    np.random.seed(None)\n",
        "    while not(done):\n",
        "        done = True\n",
        "        I = np.random.permutation(n)\n",
        "        for j in I:\n",
        "            pred_y = evaluate_classifier(w,b,x[j,:])\n",
        "            true_y = int(y[j])\n",
        "            if pred_y != true_y:\n",
        "                w[true_y,:] = w[true_y,:] + x[j,:]\n",
        "                b[true_y] = b[true_y] + 1.0\n",
        "                w[pred_y,:] = w[pred_y,:] - x[j,:]\n",
        "                b[pred_y] = b[pred_y] - 1.0\n",
        "                done = False\n",
        "        iters = iters + 1\n",
        "        if iters > n_iters:\n",
        "            done = True\n",
        "            converged = False\n",
        "    if converged:\n",
        "        print(\"Perceptron algorithm: iterations until convergence: \", iters)\n",
        "    else:\n",
        "        print(\"Perceptron algorithm: did not converge within the specified number of iterations\")\n",
        "    return w, b, converged"
      ]
    },
    {
      "cell_type": "markdown",
      "metadata": {
        "id": "z41D-VriPfbE"
      },
      "source": [
        "## 2. Experiments with multiclass Perceptron"
      ]
    },
    {
      "cell_type": "code",
      "execution_count": 3,
      "metadata": {
        "id": "OiI-92U3PfbF"
      },
      "outputs": [],
      "source": [
        "%matplotlib inline\n",
        "import numpy as np\n",
        "import matplotlib\n",
        "import matplotlib.pyplot as plt\n",
        "matplotlib.rc('xtick', labelsize=14) \n",
        "matplotlib.rc('ytick', labelsize=14)\n",
        "#same as in svm notebook\n",
        "import warnings; warnings.simplefilter('ignore')"
      ]
    },
    {
      "cell_type": "markdown",
      "metadata": {
        "id": "TXD61DO7PfbF"
      },
      "source": [
        "This next routine takes as input a two-dimensional data set as well as a classifier. It plots the points, with different colors for different labels, and shows the decision boundaries of the classifier. It is invoked as follows:\n",
        "* `display_data_and_boundary(x,y,pred_fn)`\n",
        "\n",
        "where\n",
        "* `x` and `y` are the two-dimensional data and their labels (in the range `0,...,k-1`)\n",
        "* `pred_fn` is the classifier: it is a function that takes a data point and returns a label"
      ]
    },
    {
      "cell_type": "code",
      "execution_count": 4,
      "metadata": {
        "id": "xLYlPt0EPfbF"
      },
      "outputs": [],
      "source": [
        "def display_data_and_boundary(x,y,pred_fn):\n",
        "    # Determine the x1- and x2- limits of the plot\n",
        "    x1min = min(x[:,0]) - 1\n",
        "    x1max = max(x[:,0]) + 1\n",
        "    x2min = min(x[:,1]) - 1\n",
        "    x2max = max(x[:,1]) + 1\n",
        "    plt.xlim(x1min,x1max)\n",
        "    plt.ylim(x2min,x2max)\n",
        "    # Plot the data points\n",
        "    k = int(max(y)) + 1\n",
        "    cols = ['ro', 'k^', 'b*','gx']\n",
        "    for label in range(k):\n",
        "        plt.plot(x[(y==label),0], x[(y==label),1], cols[label%4], markersize=8)\n",
        "    # Construct a grid of points at which to evaluate the classifier\n",
        "    grid_spacing = 0.05\n",
        "    xx1, xx2 = np.meshgrid(np.arange(x1min, x1max, grid_spacing), np.arange(x2min, x2max, grid_spacing))\n",
        "    grid = np.c_[xx1.ravel(), xx2.ravel()]\n",
        "    Z = np.array([pred_fn(pt) for pt in grid])\n",
        "    # Show the classifier's boundary using a color plot\n",
        "    Z = Z.reshape(xx1.shape)\n",
        "    plt.pcolormesh(xx1, xx2, Z, cmap=plt.cm.Pastel1, vmin=0, vmax=k)\n",
        "    plt.show()"
      ]
    },
    {
      "cell_type": "markdown",
      "metadata": {
        "id": "eFe8PfFwPfbG"
      },
      "source": [
        "The following procedure, **run_multiclass_perceptron**, loads a labeled two-dimensional data set, learns a linear classifier using the Perceptron algorithm, and then displays the data as well as the boundary.\n",
        "\n",
        "The data file is assumed to contain one data point per line, along with a label, like:\n",
        "* `3 8 2` (meaning that point `x=(3,8)` has label `y=2`)"
      ]
    },
    {
      "cell_type": "code",
      "execution_count": 5,
      "metadata": {
        "id": "rvCSIanePfbG"
      },
      "outputs": [],
      "source": [
        "def run_multiclass_perceptron(datafile):\n",
        "    data = np.loadtxt(datafile)\n",
        "    n,d = data.shape\n",
        "    # Create training set x and labels y\n",
        "    x = data[:,0:2]\n",
        "    y = data[:,2]\n",
        "    k = int(max(y)) + 1\n",
        "    print(\"Number of classes: \", k)\n",
        "    # Run the Perceptron algorithm for at most 1000 iterations\n",
        "    w,b,converged = train_multiclass_perceptron(x,y,k,1000)\n",
        "    # Show the data and boundary\n",
        "    pred_fn = lambda p: evaluate_classifier(w,b,p)\n",
        "    display_data_and_boundary(x,y,pred_fn)"
      ]
    },
    {
      "cell_type": "markdown",
      "metadata": {
        "id": "btdXVvXQPfbH"
      },
      "source": [
        "Let's try this out on two simple data sets. Make sure that the directory containing this notebook also contains the two-dimensional data files `data_3.txt` and `data_4.txt`. You should run these next two cells a few times to get a sense of the variability of the outcome."
      ]
    },
    {
      "cell_type": "code",
      "execution_count": 6,
      "metadata": {
        "colab": {
          "base_uri": "https://localhost:8080/",
          "height": 305
        },
        "id": "fd_PCd6YPfbH",
        "outputId": "b3c00a98-17ce-42ae-e754-1f486696f077"
      },
      "outputs": [
        {
          "output_type": "stream",
          "name": "stdout",
          "text": [
            "Number of classes:  4\n",
            "Perceptron algorithm: iterations until convergence:  24\n"
          ]
        },
        {
          "output_type": "display_data",
          "data": {
            "text/plain": [
              "<Figure size 432x288 with 1 Axes>"
            ],
            "image/png": "[encoded data removed]"
          },
          "metadata": {
            "needs_background": "light"
          }
        }
      ],
      "source": [
        "run_multiclass_perceptron('data_3.txt')"
      ]
    },
    {
      "cell_type": "code",
      "execution_count": 7,
      "metadata": {
        "colab": {
          "base_uri": "https://localhost:8080/",
          "height": 311
        },
        "id": "RulnwZbKPfbH",
        "outputId": "08ec7f89-56a6-4176-d7eb-b970e63615a6"
      },
      "outputs": [
        {
          "output_type": "stream",
          "name": "stdout",
          "text": [
            "Number of classes:  3\n",
            "Perceptron algorithm: iterations until convergence:  63\n"
          ]
        },
        {
          "output_type": "display_data",
          "data": {
            "text/plain": [
              "<Figure size 432x288 with 1 Axes>"
            ],
            "image/png": "[encoded data removed]"
          },
          "metadata": {
            "needs_background": "light"
          }
        }
      ],
      "source": [
        "run_multiclass_perceptron('data_4.txt')"
      ]
    },
    {
      "cell_type": "markdown",
      "metadata": {
        "id": "-iaGln86PfbH"
      },
      "source": [
        "## 3. Experiments with multiclass SVM"
      ]
    },
    {
      "cell_type": "markdown",
      "metadata": {
        "id": "zbbL8A7aPfbI"
      },
      "source": [
        "Now let's see how multiclass SVM fares on these same data sets. We start with an analog of the **run_multiclass_perceptron** function. The key difference is that the SVM version, **run_multiclass_svm**, takes a second parameter: the regularization constant `C` in the convex program of the soft-margin SVM."
      ]
    },
    {
      "cell_type": "code",
      "execution_count": 8,
      "metadata": {
        "id": "HI_bQc8OPfbI"
      },
      "outputs": [],
      "source": [
        "from sklearn.svm import SVC, LinearSVC\n",
        "def run_multiclass_svm(datafile,C_value=1.0):\n",
        "    data = np.loadtxt(datafile)\n",
        "    n,d = data.shape\n",
        "    # Create training set x and labels y\n",
        "    x = data[:,0:2]\n",
        "    y = data[:,2]\n",
        "    k = int(max(y)) + 1\n",
        "    print(\"Number of classes: \", k)\n",
        "    # Train an SVM\n",
        "    clf = LinearSVC(loss='hinge', multi_class='crammer_singer', C=C_value)\n",
        "    clf.fit(x,y)\n",
        "    # Show the data and boundary\n",
        "    pred_fn = lambda p: clf.predict(p.reshape(1,-1))    \n",
        "    display_data_and_boundary(x,y,pred_fn)"
      ]
    },
    {
      "cell_type": "markdown",
      "metadata": {
        "id": "DuFO3014PfbI"
      },
      "source": [
        "Let's run this on the two data sets `data_3.txt` and `data_4.txt` that we saw earlier. Try playing with the second parameter to see how the decision boundary changes. You should try values like `C = 0.01, 0.1, 1.0, 10.0, 100.0`."
      ]
    },
    {
      "cell_type": "code",
      "execution_count": 9,
      "metadata": {
        "colab": {
          "base_uri": "https://localhost:8080/",
          "height": 287
        },
        "id": "W-4FuZOHPfbI",
        "outputId": "e05fcc76-5928-4faa-b4f0-bc627d4c77d7"
      },
      "outputs": [
        {
          "output_type": "stream",
          "name": "stdout",
          "text": [
            "Number of classes:  4\n"
          ]
        },
        {
          "output_type": "display_data",
          "data": {
            "text/plain": [
              "<Figure size 432x288 with 1 Axes>"
            ],
            "image/png": "[encoded data removed]"
          },
          "metadata": {
            "needs_background": "light"
          }
        }
      ],
      "source": [
        "run_multiclass_svm('data_3.txt',10.0)"
      ]
    },
    {
      "cell_type": "code",
      "source": [
        "run_multiclass_svm('data_3.txt',1.0)"
      ],
      "metadata": {
        "colab": {
          "base_uri": "https://localhost:8080/",
          "height": 287
        },
        "id": "o4qZ6XE2Pw0q",
        "outputId": "2f11e66c-0438-4781-ab35-6e074ae86a54"
      },
      "execution_count": 12,
      "outputs": [
        {
          "output_type": "stream",
          "name": "stdout",
          "text": [
            "Number of classes:  4\n"
          ]
        },
        {
          "output_type": "display_data",
          "data": {
            "text/plain": [
              "<Figure size 432x288 with 1 Axes>"
            ],
            "image/png": "[encoded data removed]"
          },
          "metadata": {
            "needs_background": "light"
          }
        }
      ]
    },
    {
      "cell_type": "code",
      "source": [
        "run_multiclass_svm('data_3.txt',100.0)"
      ],
      "metadata": {
        "colab": {
          "base_uri": "https://localhost:8080/",
          "height": 287
        },
        "id": "8H4naOryQHkJ",
        "outputId": "d3b74c25-327b-445f-eb9f-199cd7883939"
      },
      "execution_count": 15,
      "outputs": [
        {
          "output_type": "stream",
          "name": "stdout",
          "text": [
            "Number of classes:  4\n"
          ]
        },
        {
          "output_type": "display_data",
          "data": {
            "text/plain": [
              "<Figure size 432x288 with 1 Axes>"
            ],
            "image/png": "[encoded data removed]"
          },
          "metadata": {
            "needs_background": "light"
          }
        }
      ]
    },
    {
      "cell_type": "code",
      "execution_count": 10,
      "metadata": {
        "colab": {
          "base_uri": "https://localhost:8080/",
          "height": 293
        },
        "id": "9dlQ4WkaPfbJ",
        "outputId": "e331ab9d-11c1-44c8-dd1d-1d7a14513182"
      },
      "outputs": [
        {
          "output_type": "stream",
          "name": "stdout",
          "text": [
            "Number of classes:  3\n"
          ]
        },
        {
          "output_type": "display_data",
          "data": {
            "text/plain": [
              "<Figure size 432x288 with 1 Axes>"
            ],
            "image/png": "[encoded data removed]"
          },
          "metadata": {
            "needs_background": "light"
          }
        }
      ],
      "source": [
        "run_multiclass_svm('data_4.txt',100.0)"
      ]
    },
    {
      "cell_type": "code",
      "source": [
        "run_multiclass_svm('data_4.txt',10.0)"
      ],
      "metadata": {
        "colab": {
          "base_uri": "https://localhost:8080/",
          "height": 293
        },
        "id": "WKrcEPoAQAZ2",
        "outputId": "9552c388-1e87-420a-e6cd-6dfab92a0da9"
      },
      "execution_count": 13,
      "outputs": [
        {
          "output_type": "stream",
          "name": "stdout",
          "text": [
            "Number of classes:  3\n"
          ]
        },
        {
          "output_type": "display_data",
          "data": {
            "text/plain": [
              "<Figure size 432x288 with 1 Axes>"
            ],
            "image/png": "[encoded data removed]"
          },
          "metadata": {
            "needs_background": "light"
          }
        }
      ]
    },
    {
      "cell_type": "code",
      "source": [
        "run_multiclass_svm('data_4.txt',1000.0)"
      ],
      "metadata": {
        "colab": {
          "base_uri": "https://localhost:8080/",
          "height": 293
        },
        "id": "xwVeN8WeQEAN",
        "outputId": "66625fa9-685d-45f6-82cb-ce5a8a79a062"
      },
      "execution_count": 14,
      "outputs": [
        {
          "output_type": "stream",
          "name": "stdout",
          "text": [
            "Number of classes:  3\n"
          ]
        },
        {
          "output_type": "display_data",
          "data": {
            "text/plain": [
              "<Figure size 432x288 with 1 Axes>"
            ],
            "image/png": "[encoded data removed]"
          },
          "metadata": {
            "needs_background": "light"
          }
        }
      ]
    },
    {
      "cell_type": "markdown",
      "metadata": {
        "id": "yxvq3ViCPfbJ"
      },
      "source": [
        "<font color=\"magenta\">For you to think about:</font> How would you summarize the effect of varying `C`?"
      ]
    },
    {
      "cell_type": "markdown",
      "metadata": {
        "id": "RJDYzKGAPfbJ"
      },
      "source": [
        "The final experiment is with the famous IRIS data set. This is four-dimensional data with three labels, but we will pick just two of the features, as a consequence of which the problem is not linearly separable. Thus the Perceptron algorithm would never converge. The soft-margin SVM obtains a reasonable solution, however."
      ]
    },
    {
      "cell_type": "code",
      "execution_count": 11,
      "metadata": {
        "colab": {
          "base_uri": "https://localhost:8080/",
          "height": 269
        },
        "id": "Y8cseQoKPfbJ",
        "outputId": "b52c55bb-2d7c-44a1-f8a3-b348e98f6e8e"
      },
      "outputs": [
        {
          "output_type": "display_data",
          "data": {
            "text/plain": [
              "<Figure size 432x288 with 1 Axes>"
            ],
            "image/png": "[encoded data removed]"
          },
          "metadata": {
            "needs_background": "light"
          }
        }
      ],
      "source": [
        "# Load IRIS data\n",
        "from sklearn import datasets\n",
        "iris = datasets.load_iris()\n",
        "x = iris.data\n",
        "y = iris.target\n",
        "# Select just two of the four features\n",
        "features = [1,3]\n",
        "x = x[:,features]\n",
        "# Train SVM\n",
        "clf = LinearSVC(loss='hinge', multi_class='crammer_singer')\n",
        "clf.fit(x,y)\n",
        "pred_fn = lambda p: clf.predict(p.reshape(1,-1))\n",
        "display_data_and_boundary(x,y,pred_fn)"
      ]
    },
    {
      "cell_type": "code",
      "execution_count": 11,
      "metadata": {
        "id": "m1bNrCEpPfbJ"
      },
      "outputs": [],
      "source": []
    }
  ],
  "metadata": {
    "kernelspec": {
      "display_name": "Python 3",
      "language": "python",
      "name": "python3"
    },
    "language_info": {
      "codemirror_mode": {
        "name": "ipython",
        "version": 3
      },
      "file_extension": ".py",
      "mimetype": "text/x-python",
      "name": "python",
      "nbconvert_exporter": "python",
      "pygments_lexer": "ipython3",
      "version": "3.7.4"
    },
    "toc": {
      "colors": {
        "hover_highlight": "#DAA520",
        "navigate_num": "#000000",
        "navigate_text": "#333333",
        "running_highlight": "#FF0000",
        "selected_highlight": "#FFD700",
        "sidebar_border": "#EEEEEE",
        "wrapper_background": "#FFFFFF"
      },
      "moveMenuLeft": true,
      "nav_menu": {
        "height": "12px",
        "width": "252px"
      },
      "navigate_menu": true,
      "number_sections": false,
      "sideBar": true,
      "threshold": 4,
      "toc_cell": false,
      "toc_section_display": "block",
      "toc_window_display": false,
      "widenNotebook": false
    },
    "colab": {
      "provenance": [],
      "include_colab_link": true
    }
  },
  "nbformat": 4,
  "nbformat_minor": 0
}