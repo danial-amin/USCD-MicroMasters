{
  "cells": [
    {
      "cell_type": "markdown",
      "metadata": {
        "id": "view-in-github",
        "colab_type": "text"
      },
      "source": [
        "<a href=\"https://colab.research.google.com/github/danial-amin/USCD-MicroMasters/blob/main/ML%20Fundamentals/Programming%20Assignments/7-kernel_SVM_and_Perceptron.ipynb\" target=\"_parent\"><img src=\"https://colab.research.google.com/assets/colab-badge.svg\" alt=\"Open In Colab\"/></a>"
      ]
    },
    {
      "cell_type": "markdown",
      "metadata": {
        "id": "aFfCaxbRA76A"
      },
      "source": [
        "# Experiments with kernel machines"
      ]
    },
    {
      "cell_type": "markdown",
      "metadata": {
        "id": "9v_v7_vJA76L"
      },
      "source": [
        "In this notebook we will use simple two-dimensional data sets to illustrate the behavior of the support vector machine and the Perceptron, when used with quadratic and RBF kernels."
      ]
    },
    {
      "cell_type": "markdown",
      "metadata": {
        "id": "7j5tu4xUA76M"
      },
      "source": [
        "## 1. Basic training procedure"
      ]
    },
    {
      "cell_type": "code",
      "execution_count": 1,
      "metadata": {
        "collapsed": true,
        "id": "1yb3N332A76N"
      },
      "outputs": [],
      "source": [
        "%matplotlib inline\n",
        "import numpy as np\n",
        "import matplotlib\n",
        "import matplotlib.pyplot as plt\n",
        "from sklearn.svm import SVC\n",
        "matplotlib.rc('xtick', labelsize=14) \n",
        "matplotlib.rc('ytick', labelsize=14)\n",
        "import gzip, os , sys\n",
        "if sys.version_info[0] == 2:\n",
        "    from urllib import urlretrieve\n",
        "else:\n",
        "    from urllib.request import urlretrieve"
      ]
    },
    {
      "cell_type": "markdown",
      "metadata": {
        "id": "b4173uXYA76O"
      },
      "source": [
        "The directory containing this notebook should also contain two-dimensional data files, `data1.txt` through `data5.txt`. These files contain one data point per line, along with a label (either -1 or 1), like:\n",
        "* `3 8 -1` (meaning that point `x=(3,8)` has label `y=-1`)\n",
        "\n",
        "The next procedure, **learn_and_display_SVM**, loads one of these data sets, invokes `sklearn.SVC` to learn a classifier, and then displays the data as well as the boundary. It is invoked as follows:\n",
        "* `learn_and_display_SVM(datafile, kernel_type, C_value, s_value)`\n",
        "\n",
        "where\n",
        "* `datafile` is one of `'data1.txt'` through `'data5.txt'` (or another file in the same format)\n",
        "* `kernel_type` is either `'quadratic'` or `'rbf'`\n",
        "* `C_value` is the setting of the soft-margin parameter `C` (default: 1.0)\n",
        "* `s_value` (for the RBF kernel) is the scaling parameter `s` (default: 1.0)"
      ]
    },
    {
      "cell_type": "code",
      "execution_count": 2,
      "metadata": {
        "collapsed": true,
        "id": "26DmDcTxA76P"
      },
      "outputs": [],
      "source": [
        "def learn_and_display_SVM(datafile, kernel_type='rbf', C_value=1.0, s_value=1.0):\n",
        "    data = np.loadtxt(datafile)\n",
        "    n,d = data.shape\n",
        "    # Create training set x and labels y\n",
        "    x = data[:,0:2]\n",
        "    y = data[:,2]\n",
        "    # Now train a support vector machine and identify the support vectors\n",
        "    if kernel_type == 'rbf':\n",
        "        clf = SVC(kernel='rbf', C=C_value, gamma=1.0/(s_value*s_value))\n",
        "    if kernel_type == 'quadratic':\n",
        "        clf = SVC(kernel='poly', degree=2, C=C_value, coef0=1.0)\n",
        "    clf.fit(x,y)\n",
        "    sv = np.zeros(n,dtype=bool)\n",
        "    sv[clf.support_] = True\n",
        "    notsv = np.logical_not(sv)\n",
        "    # Determine the x1- and x2- limits of the plot\n",
        "    x1min = min(x[:,0]) - 1\n",
        "    x1max = max(x[:,0]) + 1\n",
        "    x2min = min(x[:,1]) - 1\n",
        "    x2max = max(x[:,1]) + 1\n",
        "    plt.xlim(x1min,x1max)\n",
        "    plt.ylim(x2min,x2max)\n",
        "    # Plot the data points, enlarging those that are support vectors\n",
        "    plt.plot(x[(y==1)*notsv,0], x[(y==1)*notsv,1], 'ro')\n",
        "    plt.plot(x[(y==1)*sv,0], x[(y==1)*sv,1], 'ro', markersize=10)\n",
        "    plt.plot(x[(y==-1)*notsv,0], x[(y==-1)*notsv,1], 'k^')\n",
        "    plt.plot(x[(y==-1)*sv,0], x[(y==-1)*sv,1], 'k^', markersize=10)\n",
        "    # Construct a grid of points and evaluate classifier at each grid points\n",
        "    grid_spacing = 0.05\n",
        "    xx1, xx2 = np.meshgrid(np.arange(x1min, x1max, grid_spacing), np.arange(x2min, x2max, grid_spacing))\n",
        "    grid = np.c_[xx1.ravel(), xx2.ravel()]\n",
        "    Z = clf.decision_function(grid)\n",
        "    # Quantize the values to -1, -0.5, 0, 0.5, 1 for display purposes\n",
        "    for i in range(len(Z)):\n",
        "        Z[i] = min(Z[i],1.0)\n",
        "        Z[i] = max(Z[i],-1.0)\n",
        "        if (Z[i] > 0.0) and (Z[i] < 1.0):\n",
        "            Z[i] = 0.5\n",
        "        if (Z[i] < 0.0) and (Z[i] > -1.0):\n",
        "            Z[i] = -0.5\n",
        "    # Show boundary and margin using a color plot\n",
        "    Z = Z.reshape(xx1.shape)\n",
        "    plt.pcolormesh(xx1, xx2, Z, cmap=plt.cm.PRGn, vmin=-2, vmax=2)\n",
        "    plt.show()"
      ]
    },
    {
      "cell_type": "markdown",
      "metadata": {
        "id": "YIl2cSw5A76Q"
      },
      "source": [
        "## 2. Experiments with the quadratic kernel"
      ]
    },
    {
      "cell_type": "markdown",
      "metadata": {
        "id": "lTq7lqLeA76Q"
      },
      "source": [
        "Let's try out SVM on some examples, starting with the quadratic kernel."
      ]
    },
    {
      "cell_type": "code",
      "execution_count": 3,
      "metadata": {
        "colab": {
          "base_uri": "https://localhost:8080/",
          "height": 269
        },
        "id": "2sBxyRTaA76Q",
        "outputId": "a876c25b-f770-45bd-8922-d72a9a45e183"
      },
      "outputs": [
        {
          "output_type": "display_data",
          "data": {
            "text/plain": [
              "<Figure size 432x288 with 1 Axes>"
            ],
            "image/png": "[encoded data removed]"
          },
          "metadata": {
            "needs_background": "light"
          }
        }
      ],
      "source": [
        "learn_and_display_SVM('data1.txt', 'quadratic', 1.0)"
      ]
    },
    {
      "cell_type": "markdown",
      "metadata": {
        "id": "3vZJBNYjA76Q"
      },
      "source": [
        "Also try `data2.txt` through `data5.txt`. Also try changing the value of `C` (the third parameter) to see how that affects the boundary and margin."
      ]
    },
    {
      "cell_type": "markdown",
      "metadata": {
        "id": "7ezDWggrA76R"
      },
      "source": [
        "## 3. Experiments with the RBF kernel"
      ]
    },
    {
      "cell_type": "markdown",
      "metadata": {
        "id": "KpcXrrbyA76R"
      },
      "source": [
        "Now experiment with the RBF kernel, on the same five data sets. This time there are two parameters to play with: `C` and `sigma`."
      ]
    },
    {
      "cell_type": "code",
      "execution_count": 4,
      "metadata": {
        "colab": {
          "base_uri": "https://localhost:8080/",
          "height": 269
        },
        "id": "JPsh3NghA76R",
        "outputId": "296852f6-ca2f-4958-e2b2-142fd764ec93"
      },
      "outputs": [
        {
          "output_type": "display_data",
          "data": {
            "text/plain": [
              "<Figure size 432x288 with 1 Axes>"
            ],
            "image/png": "[encoded data removed]"
          },
          "metadata": {
            "needs_background": "light"
          }
        }
      ],
      "source": [
        "learn_and_display_SVM('data1.txt', 'rbf', 10.0, 10.0)"
      ]
    },
    {
      "cell_type": "markdown",
      "metadata": {
        "id": "RsYmYWczA76S"
      },
      "source": [
        "## 4. The kernel Perceptron"
      ]
    },
    {
      "cell_type": "markdown",
      "metadata": {
        "id": "uwQUNe_7A76S"
      },
      "source": [
        "<font color=\"magenta\">**For you to do:**</font> Implement the kernel Perceptron algorithm as specified in lecture. Your algorithm should allow both the quadratic and RBF kernel, and should follow roughly the same signature as the SVM routine above:\n",
        "* `learn_and_display_Perceptron(datafile, kernel_type, s_value)`\n",
        "\n",
        "Recall that the Perceptron algorithm does not always converge; you will need to explicitly check for this."
      ]
    },
    {
      "cell_type": "code",
      "execution_count": 5,
      "metadata": {
        "collapsed": true,
        "id": "pbbelcqmA76S"
      },
      "outputs": [],
      "source": [
        "def w_x(x,y,kernel_type,s_value,z,alpha):\n",
        "    n,d = x.shape\n",
        "    wx=0\n",
        "    for j in range(n):\n",
        "        if kernel_type == 'rbf':\n",
        "            wx+= (alpha[j]*y[j]*np.exp(-np.linalg.norm(x[j]-z)**2 / (s_value**2)))\n",
        "        if kernel_type == 'quadratic':\n",
        "            wx+= (alpha[j]*y[j]*((1 + np.dot(x[j], z))**2))\n",
        "    return wx\n",
        "\n",
        "def train_perceptron(x,y,s_value,kernel_type,n_iters=500):\n",
        "    n,d = x.shape\n",
        "    alpha = np.zeros((n,))\n",
        "    b=0\n",
        "    done = False\n",
        "    converged = True\n",
        "    iters = 0\n",
        "    np.random.seed(None)\n",
        "    while not(done):\n",
        "        done = True\n",
        "        I = np.random.permutation(n)\n",
        "        for p in I:\n",
        "            if y[p]*(w_x(x,y,kernel_type,s_value,x[p],alpha)+b) <= 0:\n",
        "                alpha[p] = alpha[p] + 1.0\n",
        "                b = b + y[p]\n",
        "                done = False\n",
        "        iters = iters + 1\n",
        "        if iters > n_iters:\n",
        "            done = True\n",
        "            converged = False\n",
        "    if converged:\n",
        "        print(\"Perceptron algorithm: iterations until convergence: \", iters)\n",
        "    else:\n",
        "        print(\"Perceptron algorithm: did not converge within the specified number of iterations\")\n",
        "    return alpha,b,converged\n",
        "\n",
        "def gridspace(x,sv_x,sv_y,alpha,b,kernel_type,s_value):\n",
        "        y_predict = np.zeros(x.shape[0])\n",
        "        for i in range(x.shape[0]):\n",
        "            s = 0\n",
        "            for a, c, z in zip(alpha, sv_y, sv_x):\n",
        "                if kernel_type == 'rbf':\n",
        "                    s += a * c* np.exp(-np.linalg.norm(x[i]-z)**2 / (s_value**2))+b\n",
        "                if kernel_type == 'quadratic':\n",
        "                     s+= a * c *((1 + np.dot(x[i], z))**2)+b\n",
        "            y_predict[i] = np.sign(s)\n",
        "        \n",
        "        return y_predict       \n",
        "\n",
        "def learn_and_display_Perceptron_1(datafile, kernel_type='rbf', s_value=1.0):\n",
        "    data = np.loadtxt(datafile)\n",
        "    n,d = data.shape\n",
        "    # Create training set x and labels y\n",
        "    x = data[:,0:2]\n",
        "    y = data[:,2]\n",
        "    # Now train a perceptron for at most 100 iterations\n",
        "    alpha,b,converged = train_perceptron(x,y,s_value,kernel_type,1000)\n",
        "    #Support vectors\n",
        "    sv = alpha > 1e-5\n",
        "    ind = np.arange(len(alpha))[sv]\n",
        "    alpha = alpha[sv]\n",
        "    sv_x = x[sv]\n",
        "    notsv = np.logical_not(sv)\n",
        "    sv_y = y[sv]\n",
        "    # Determine the x1- and x2- limits of the plot\n",
        "    x1min = min(x[:,0]) - 1\n",
        "    x1max = max(x[:,0]) + 1\n",
        "    x2min = min(x[:,1]) - 1\n",
        "    x2max = max(x[:,1]) + 1\n",
        "    plt.xlim(x1min,x1max)\n",
        "    plt.ylim(x2min,x2max)\n",
        "    # Plot the data points\n",
        "    plt.plot(x[(y==1)*notsv,0], x[(y==1)*notsv,1], 'ro')\n",
        "    plt.plot(x[(y==1)*sv,0], x[(y==1)*sv,1], 'ro', markersize=10)\n",
        "    plt.plot(x[(y==-1)*notsv,0], x[(y==-1)*notsv,1], 'k^')\n",
        "    plt.plot(x[(y==-1)*sv,0], x[(y==-1)*sv,1], 'k^', markersize=10)\n",
        "    # Construct a grid of points at which to evaluate the classifier\n",
        "    if converged:\n",
        "        grid_spacing = 0.05\n",
        "        xx1, xx2 = np.meshgrid(np.arange(x1min, x1max, grid_spacing), np.arange(x2min, x2max, grid_spacing))\n",
        "        grid = np.c_[xx1.ravel(), xx2.ravel()]   \n",
        "        Z = gridspace(grid,sv_x,sv_y,alpha,b,kernel_type,s_value)\n",
        "        # Show the classifier's boundary using a color plot\n",
        "        Z = Z.reshape(xx1.shape)\n",
        "        plt.pcolormesh(xx1, xx2, Z, cmap=plt.cm.PRGn, vmin=-2, vmax=2)\n",
        "    plt.show()\n",
        "    "
      ]
    },
    {
      "cell_type": "markdown",
      "metadata": {
        "id": "VKwIodrlA76S"
      },
      "source": [
        "<font color=\"magenta\">Experiment with your routine, on the same five data sets.</font>"
      ]
    },
    {
      "cell_type": "code",
      "source": [
        "learn_and_display_Perceptron_1(\"data1.txt\", kernel_type='quadratic', s_value=1.0)"
      ],
      "metadata": {
        "colab": {
          "base_uri": "https://localhost:8080/",
          "height": 287
        },
        "id": "je1kHXtDELRH",
        "outputId": "c43aa2dc-c7c7-416f-f45a-85009d39ca78"
      },
      "execution_count": 6,
      "outputs": [
        {
          "output_type": "stream",
          "name": "stdout",
          "text": [
            "Perceptron algorithm: did not converge within the specified number of iterations\n"
          ]
        },
        {
          "output_type": "display_data",
          "data": {
            "text/plain": [
              "<Figure size 432x288 with 1 Axes>"
            ],
            "image/png": "[encoded data removed]"
          },
          "metadata": {
            "needs_background": "light"
          }
        }
      ]
    },
    {
      "cell_type": "code",
      "source": [
        "learn_and_display_Perceptron_1(\"data2.txt\", kernel_type='quadratic', s_value=1.0)"
      ],
      "metadata": {
        "colab": {
          "base_uri": "https://localhost:8080/",
          "height": 287
        },
        "id": "ydmLeSj4EYWE",
        "outputId": "eb604dae-e1d7-42c3-a208-47fd28c00f85"
      },
      "execution_count": 7,
      "outputs": [
        {
          "output_type": "stream",
          "name": "stdout",
          "text": [
            "Perceptron algorithm: iterations until convergence:  26\n"
          ]
        },
        {
          "output_type": "display_data",
          "data": {
            "text/plain": [
              "<Figure size 432x288 with 1 Axes>"
            ],
            "image/png": "[encoded data removed]"
          },
          "metadata": {
            "needs_background": "light"
          }
        }
      ]
    },
    {
      "cell_type": "code",
      "source": [
        "learn_and_display_Perceptron_1(\"data3.txt\", kernel_type='quadratic', s_value=1.0)"
      ],
      "metadata": {
        "colab": {
          "base_uri": "https://localhost:8080/",
          "height": 287
        },
        "id": "0572Mzt-HNQz",
        "outputId": "37c0dc0f-3c38-4e56-9064-482f9410f249"
      },
      "execution_count": 8,
      "outputs": [
        {
          "output_type": "stream",
          "name": "stdout",
          "text": [
            "Perceptron algorithm: did not converge within the specified number of iterations\n"
          ]
        },
        {
          "output_type": "display_data",
          "data": {
            "text/plain": [
              "<Figure size 432x288 with 1 Axes>"
            ],
            "image/png": "[encoded data removed]"
          },
          "metadata": {
            "needs_background": "light"
          }
        }
      ]
    },
    {
      "cell_type": "code",
      "source": [
        "learn_and_display_Perceptron_1(\"data4.txt\", kernel_type='quadratic', s_value=1.0)"
      ],
      "metadata": {
        "colab": {
          "base_uri": "https://localhost:8080/",
          "height": 287
        },
        "id": "YqlOawmnHPad",
        "outputId": "7d075996-f1d6-4810-fd64-7c9f526d5a38"
      },
      "execution_count": 9,
      "outputs": [
        {
          "output_type": "stream",
          "name": "stdout",
          "text": [
            "Perceptron algorithm: iterations until convergence:  7\n"
          ]
        },
        {
          "output_type": "display_data",
          "data": {
            "text/plain": [
              "<Figure size 432x288 with 1 Axes>"
            ],
            "image/png": "[encoded data removed]"
          },
          "metadata": {
            "needs_background": "light"
          }
        }
      ]
    },
    {
      "cell_type": "code",
      "source": [
        "learn_and_display_Perceptron_1(\"data5.txt\", kernel_type='quadratic', s_value=1.0)"
      ],
      "metadata": {
        "colab": {
          "base_uri": "https://localhost:8080/",
          "height": 287
        },
        "id": "Gm5OfUCnHQko",
        "outputId": "0cee99d9-a6e6-4419-a472-b7b38a29a77a"
      },
      "execution_count": 10,
      "outputs": [
        {
          "output_type": "stream",
          "name": "stdout",
          "text": [
            "Perceptron algorithm: did not converge within the specified number of iterations\n"
          ]
        },
        {
          "output_type": "display_data",
          "data": {
            "text/plain": [
              "<Figure size 432x288 with 1 Axes>"
            ],
            "image/png": "[encoded data removed]"
          },
          "metadata": {
            "needs_background": "light"
          }
        }
      ]
    },
    {
      "cell_type": "code",
      "source": [
        "def download(filename, source='http://yann.lecun.com/exdb/mnist/'):\n",
        "    print(\"Downloading %s\" % filename)\n",
        "    urlretrieve(source + filename, filename)\n",
        "\n",
        "# Invokes download() if necessary, then reads in images\n",
        "def load_mnist_images(filename):\n",
        "    if not os.path.exists(filename):\n",
        "        download(filename)\n",
        "    with gzip.open(filename, 'rb') as f:\n",
        "        data = np.frombuffer(f.read(), np.uint8, offset=16)\n",
        "    data = data.reshape(-1,784)\n",
        "    return data\n",
        "\n",
        "def load_mnist_labels(filename):\n",
        "    if not os.path.exists(filename):\n",
        "        download(filename)\n",
        "    with gzip.open(filename, 'rb') as f:\n",
        "        data = np.frombuffer(f.read(), np.uint8, offset=8)\n",
        "    return data\n",
        "## Load the training set\n",
        "train_data = load_mnist_images('train-images-idx3-ubyte.gz')\n",
        "train_labels = load_mnist_labels('train-labels-idx1-ubyte.gz')\n",
        "\n",
        "## Load the testing set\n",
        "test_data = load_mnist_images('t10k-images-idx3-ubyte.gz')\n",
        "test_labels = load_mnist_labels('t10k-labels-idx1-ubyte.gz')"
      ],
      "metadata": {
        "colab": {
          "base_uri": "https://localhost:8080/"
        },
        "id": "CTiN39MAHSLa",
        "outputId": "f17c26cf-7412-4c80-d178-a360ed30d18c"
      },
      "execution_count": 11,
      "outputs": [
        {
          "output_type": "stream",
          "name": "stdout",
          "text": [
            "Downloading train-images-idx3-ubyte.gz\n",
            "Downloading train-labels-idx1-ubyte.gz\n",
            "Downloading t10k-images-idx3-ubyte.gz\n",
            "Downloading t10k-labels-idx1-ubyte.gz\n"
          ]
        }
      ]
    },
    {
      "cell_type": "code",
      "source": [
        "from sklearn.svm import LinearSVC\n",
        "def fit_linear_classifier(C_value=1.0):\n",
        "    clf = LinearSVC(C=C_value, loss='hinge')\n",
        "    clf.fit(train_data,train_labels)\n",
        "    ## Get predictions on training data\n",
        "    train_preds = clf.predict(train_data)\n",
        "    train_error = float(np.sum((train_preds > 0.0) != (train_labels > 0.0)))/len(train_labels)\n",
        "    ## Get predictions on test data\n",
        "    test_preds = clf.predict(test_data)\n",
        "    test_error = float(np.sum((test_preds > 0.0) != (test_labels > 0.0)))/len(test_labels)\n",
        "    return test_error,train_error"
      ],
      "metadata": {
        "id": "Z0CUAz3bHyug"
      },
      "execution_count": 12,
      "outputs": []
    },
    {
      "cell_type": "code",
      "source": [
        "a=[0.001 * 10**i for i in range(5)]\n",
        "err_te=[fit_linear_classifier(n)[0] for n in a]\n",
        "err_tr=[fit_linear_classifier(n)[1] for n in a]"
      ],
      "metadata": {
        "colab": {
          "base_uri": "https://localhost:8080/"
        },
        "id": "oWF8Gt4HIYGM",
        "outputId": "e00dab0e-77fb-4525-9603-7a6d6e0446e6"
      },
      "execution_count": 13,
      "outputs": [
        {
          "output_type": "stream",
          "name": "stderr",
          "text": [
            "/usr/local/lib/python3.8/dist-packages/sklearn/svm/_base.py:1206: ConvergenceWarning: Liblinear failed to converge, increase the number of iterations.\n",
            "  warnings.warn(\n",
            "/usr/local/lib/python3.8/dist-packages/sklearn/svm/_base.py:1206: ConvergenceWarning: Liblinear failed to converge, increase the number of iterations.\n",
            "  warnings.warn(\n",
            "/usr/local/lib/python3.8/dist-packages/sklearn/svm/_base.py:1206: ConvergenceWarning: Liblinear failed to converge, increase the number of iterations.\n",
            "  warnings.warn(\n",
            "/usr/local/lib/python3.8/dist-packages/sklearn/svm/_base.py:1206: ConvergenceWarning: Liblinear failed to converge, increase the number of iterations.\n",
            "  warnings.warn(\n",
            "/usr/local/lib/python3.8/dist-packages/sklearn/svm/_base.py:1206: ConvergenceWarning: Liblinear failed to converge, increase the number of iterations.\n",
            "  warnings.warn(\n",
            "/usr/local/lib/python3.8/dist-packages/sklearn/svm/_base.py:1206: ConvergenceWarning: Liblinear failed to converge, increase the number of iterations.\n",
            "  warnings.warn(\n",
            "/usr/local/lib/python3.8/dist-packages/sklearn/svm/_base.py:1206: ConvergenceWarning: Liblinear failed to converge, increase the number of iterations.\n",
            "  warnings.warn(\n",
            "/usr/local/lib/python3.8/dist-packages/sklearn/svm/_base.py:1206: ConvergenceWarning: Liblinear failed to converge, increase the number of iterations.\n",
            "  warnings.warn(\n",
            "/usr/local/lib/python3.8/dist-packages/sklearn/svm/_base.py:1206: ConvergenceWarning: Liblinear failed to converge, increase the number of iterations.\n",
            "  warnings.warn(\n",
            "/usr/local/lib/python3.8/dist-packages/sklearn/svm/_base.py:1206: ConvergenceWarning: Liblinear failed to converge, increase the number of iterations.\n",
            "  warnings.warn(\n"
          ]
        }
      ]
    },
    {
      "cell_type": "code",
      "source": [
        "fig,ax= plt.subplots()\n",
        "plt.plot(a,err_te)\n",
        "ax.set_xscale(\"log\")\n",
        "plt.xlabel(\"Value of C (log)\")\n",
        "plt.ylabel(\"Test Error\")\n",
        "plt.title(\"Distribution of Test Error with value of C\")\n",
        "plt.show();"
      ],
      "metadata": {
        "colab": {
          "base_uri": "https://localhost:8080/",
          "height": 304
        },
        "id": "NwgqSaHfIJJ8",
        "outputId": "bc1339da-4f76-4840-baf8-3a05039f4789"
      },
      "execution_count": 14,
      "outputs": [
        {
          "output_type": "display_data",
          "data": {
            "text/plain": [
              "<Figure size 432x288 with 1 Axes>"
            ],
            "image/png": "[encoded data removed]"
          },
          "metadata": {
            "needs_background": "light"
          }
        }
      ]
    },
    {
      "cell_type": "code",
      "source": [
        "from sklearn.svm import SVC\n",
        "def fit_quadratic_classifier(C_value=1.0):\n",
        "    clf = SVC(C=C_value, kernel='poly',degree=2)\n",
        "    clf.fit(train_data,train_labels)\n",
        "    ## Get predictions on training data\n",
        "    train_preds = clf.predict(train_data)\n",
        "    train_error = float(np.sum((train_preds > 0.0) != (train_labels > 0.0)))/len(train_labels)\n",
        "    ## Get predictions on test data\n",
        "    test_preds = clf.predict(test_data)\n",
        "    test_error = float(np.sum((test_preds > 0.0) != (test_labels > 0.0)))/len(test_labels)\n",
        "    ##\n",
        "    return train_error, test_error\n",
        "train_error, test_error = fit_quadratic_classifier(1.0)\n",
        "print (\"Error rate for C = %0.2f: train %0.3f test %0.3f\" % (1.0, train_error, test_error))"
      ],
      "metadata": {
        "colab": {
          "base_uri": "https://localhost:8080/"
        },
        "id": "71Zj2P6hIIhV",
        "outputId": "daefa114-adfd-4db4-d93f-9aac0ac77219"
      },
      "execution_count": 15,
      "outputs": [
        {
          "output_type": "stream",
          "name": "stdout",
          "text": [
            "Error rate for C = 1.00: train 0.001 test 0.003\n"
          ]
        }
      ]
    }
  ],
  "metadata": {
    "kernelspec": {
      "display_name": "Python 2",
      "language": "python",
      "name": "python2"
    },
    "language_info": {
      "codemirror_mode": {
        "name": "ipython",
        "version": 2
      },
      "file_extension": ".py",
      "mimetype": "text/x-python",
      "name": "python",
      "nbconvert_exporter": "python",
      "pygments_lexer": "ipython2",
      "version": "2.7.13"
    },
    "toc": {
      "colors": {
        "hover_highlight": "#DAA520",
        "navigate_num": "#000000",
        "navigate_text": "#333333",
        "running_highlight": "#FF0000",
        "selected_highlight": "#FFD700",
        "sidebar_border": "#EEEEEE",
        "wrapper_background": "#FFFFFF"
      },
      "moveMenuLeft": true,
      "nav_menu": {
        "height": "117px",
        "width": "252px"
      },
      "navigate_menu": true,
      "number_sections": false,
      "sideBar": true,
      "threshold": 4,
      "toc_cell": false,
      "toc_section_display": "block",
      "toc_window_display": false,
      "widenNotebook": false
    },
    "colab": {
      "provenance": [],
      "include_colab_link": true
    }
  },
  "nbformat": 4,
  "nbformat_minor": 0
}