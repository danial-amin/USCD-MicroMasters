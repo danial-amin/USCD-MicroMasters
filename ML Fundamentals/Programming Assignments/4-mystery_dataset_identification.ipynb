{
  "cells": [
    {
      "cell_type": "markdown",
      "metadata": {
        "id": "view-in-github",
        "colab_type": "text"
      },
      "source": [
        "<a href=\"https://colab.research.google.com/github/danial-amin/USCD-MicroMasters/blob/main/ML%20Fundamentals/Programming%20Assignments/4-mystery_dataset_identification.ipynb\" target=\"_parent\"><img src=\"https://colab.research.google.com/assets/colab-badge.svg\" alt=\"Open In Colab\"/></a>"
      ]
    },
    {
      "cell_type": "markdown",
      "metadata": {
        "id": "wDCRu7ijEE9g"
      },
      "source": [
        "# Predicting the relevant features in a dataset."
      ]
    },
    {
      "cell_type": "markdown",
      "metadata": {
        "id": "-BSCUWkfEE-w"
      },
      "source": [
        "## 1. Set up notebook and load data set"
      ]
    },
    {
      "cell_type": "code",
      "execution_count": 1,
      "metadata": {
        "id": "xyzy6nB2EE-x"
      },
      "outputs": [],
      "source": [
        "# Standard includes\n",
        "%matplotlib inline\n",
        "import numpy as np\n",
        "import matplotlib\n",
        "import matplotlib.pyplot as plt\n",
        "# Routines for linear regression\n",
        "from sklearn import linear_model\n",
        "from sklearn.metrics import mean_squared_error\n",
        "# Set label size for plots\n",
        "matplotlib.rc('xtick', labelsize=14) \n",
        "matplotlib.rc('ytick', labelsize=14)"
      ]
    },
    {
      "cell_type": "markdown",
      "metadata": {
        "id": "NmdXLLOSEE-3"
      },
      "source": [
        "This next snippet of code loads in the data. There are 442 data points, each with 100 predictor variables (which we'll denote `x`) and one response variable (which we'll denote `y`).\n"
      ]
    },
    {
      "cell_type": "code",
      "execution_count": 11,
      "metadata": {
        "id": "Te1j2d1SEE-5",
        "outputId": "39a175c0-3c55-44c0-d8a9-93d5583c8c84",
        "colab": {
          "base_uri": "https://localhost:8080/"
        }
      },
      "outputs": [
        {
          "output_type": "stream",
          "name": "stdout",
          "text": [
            "(101, 100)\n",
            "(101,)\n"
          ]
        }
      ],
      "source": [
        "data = np.genfromtxt('mystery.dat', delimiter=',')\n",
        "x = data[:,0:-1] # predictors\n",
        "y = data[:,-1] # response variable\n",
        "print(x.shape)\n",
        "print(y.shape)"
      ]
    },
    {
      "cell_type": "markdown",
      "metadata": {
        "id": "o-93wcfPEE_F"
      },
      "source": [
        "The function **feature_subset_regression** is just like **one_feature_regression**, but this time uses a list of features `flist`."
      ]
    },
    {
      "cell_type": "code",
      "execution_count": 48,
      "metadata": {
        "id": "Eb3dffrCEE_G"
      },
      "outputs": [],
      "source": [
        "regr = linear_model.LinearRegression()\n",
        "regr.fit(x, y)\n",
        "coefs=np.array(abs(regr.coef_))"
      ]
    },
    {
      "cell_type": "code",
      "source": [
        "sorted=coefs.argsort()[::-1][:10]"
      ],
      "metadata": {
        "id": "Lbzw8NejK406"
      },
      "execution_count": 49,
      "outputs": []
    },
    {
      "cell_type": "code",
      "source": [
        "shifted=sorted+1"
      ],
      "metadata": {
        "id": "wkfJJz8lMddX"
      },
      "execution_count": 50,
      "outputs": []
    },
    {
      "cell_type": "code",
      "source": [
        "print(sorted)"
      ],
      "metadata": {
        "id": "LinMfuqRKhlP",
        "outputId": "a0f04fe3-b297-4ae4-dc94-bf76f42256ad",
        "colab": {
          "base_uri": "https://localhost:8080/"
        }
      },
      "execution_count": 51,
      "outputs": [
        {
          "output_type": "stream",
          "name": "stdout",
          "text": [
            "[92 63  9 39 44 40 99 41  1  7]\n"
          ]
        }
      ]
    },
    {
      "cell_type": "code",
      "source": [
        "print(shifted)"
      ],
      "metadata": {
        "id": "2wG3kmcoMgoS",
        "outputId": "0ddaf259-66d8-4e9b-882c-9de603e0c983",
        "colab": {
          "base_uri": "https://localhost:8080/"
        }
      },
      "execution_count": 52,
      "outputs": [
        {
          "output_type": "stream",
          "name": "stdout",
          "text": [
            "[ 93  64  10  40  45  41 100  42   2   8]\n"
          ]
        }
      ]
    }
  ],
  "metadata": {
    "kernelspec": {
      "display_name": "Python 3",
      "language": "python",
      "name": "python3"
    },
    "language_info": {
      "codemirror_mode": {
        "name": "ipython",
        "version": 3
      },
      "file_extension": ".py",
      "mimetype": "text/x-python",
      "name": "python",
      "nbconvert_exporter": "python",
      "pygments_lexer": "ipython3",
      "version": "3.7.4"
    },
    "toc": {
      "colors": {
        "hover_highlight": "#DAA520",
        "navigate_num": "#000000",
        "navigate_text": "#333333",
        "running_highlight": "#FF0000",
        "selected_highlight": "#FFD700",
        "sidebar_border": "#EEEEEE",
        "wrapper_background": "#FFFFFF"
      },
      "moveMenuLeft": true,
      "nav_menu": {
        "height": "12px",
        "width": "252px"
      },
      "navigate_menu": true,
      "number_sections": false,
      "sideBar": true,
      "threshold": 4,
      "toc_cell": false,
      "toc_section_display": "block",
      "toc_window_display": false,
      "widenNotebook": false
    },
    "colab": {
      "provenance": [],
      "include_colab_link": true
    }
  },
  "nbformat": 4,
  "nbformat_minor": 0
}