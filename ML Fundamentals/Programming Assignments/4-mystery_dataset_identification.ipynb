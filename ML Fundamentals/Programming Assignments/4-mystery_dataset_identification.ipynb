{
  "cells": [
    {
      "cell_type": "markdown",
      "metadata": {
        "id": "view-in-github",
        "colab_type": "text"
      },
      "source": [
        "<a href=\"https://colab.research.google.com/github/danial-amin/USCD-MicroMasters/blob/main/ML%20Fundamentals/Programming%20Assignments/4-mystery_dataset_identification.ipynb\" target=\"_parent\"><img src=\"https://colab.research.google.com/assets/colab-badge.svg\" alt=\"Open In Colab\"/></a>"
      ]
    },
    {
      "cell_type": "markdown",
      "metadata": {
        "id": "wDCRu7ijEE9g"
      },
      "source": [
        "# Predicting the progression of diabetes using least-squares regression"
      ]
    },
    {
      "cell_type": "markdown",
      "metadata": {
        "id": "eHZ9Bcl-EE-v"
      },
      "source": [
        "The **diabetes** data set described in lecture can be obtained as a single file, `diabetes-data.csv`, from the course website. We obtained it at https://web.stanford.edu/~hastie/Papers/LARS/diabetes.data. For some background information on the data, see this seminal paper:\n",
        "\n",
        "Bradley Efron, Trevor Hastie, Iain Johnstone and Robert Tibshirani (2004) \"Least Angle Regression,\" Annals of Statistics (with discussion), 407-499.\n",
        "\n",
        "Before you start on this notebook, install `diabetes-data.csv` in the same directory. We will walk through some of the examples from lecture as well as giving you some problems to solve.\n"
      ]
    },
    {
      "cell_type": "markdown",
      "metadata": {
        "id": "-BSCUWkfEE-w"
      },
      "source": [
        "## 1. Set up notebook and load data set"
      ]
    },
    {
      "cell_type": "code",
      "execution_count": null,
      "metadata": {
        "id": "xyzy6nB2EE-x"
      },
      "outputs": [],
      "source": [
        "# Standard includes\n",
        "%matplotlib inline\n",
        "import numpy as np\n",
        "import matplotlib\n",
        "import matplotlib.pyplot as plt\n",
        "# Routines for linear regression\n",
        "from sklearn import linear_model\n",
        "from sklearn.metrics import mean_squared_error\n",
        "# Set label size for plots\n",
        "matplotlib.rc('xtick', labelsize=14) \n",
        "matplotlib.rc('ytick', labelsize=14)"
      ]
    },
    {
      "cell_type": "markdown",
      "metadata": {
        "id": "NmdXLLOSEE-3"
      },
      "source": [
        "This next snippet of code loads in the diabetes data. There are 442 data points, each with 10 predictor variables (which we'll denote `x`) and one response variable (which we'll denote `y`).\n",
        "\n",
        "Make sure the file `'diabetes-data.csv'` is in the same directory as this notebook."
      ]
    },
    {
      "cell_type": "code",
      "execution_count": null,
      "metadata": {
        "id": "Te1j2d1SEE-5"
      },
      "outputs": [],
      "source": [
        "data = np.genfromtxt('diabetes-data.csv', delimiter=',')\n",
        "features = ['age', 'sex', 'body mass index', 'blood pressure', \n",
        "            'serum1', 'serum2', 'serum3', 'serum4', 'serum5', 'serum6']\n",
        "x = data[:,0:10] # predictors\n",
        "y = data[:,10] # response variable"
      ]
    },
    {
      "cell_type": "markdown",
      "metadata": {
        "id": "Lln55fcTEE-7"
      },
      "source": [
        "## 2. Predict `y` without using `x`"
      ]
    },
    {
      "cell_type": "markdown",
      "metadata": {
        "id": "JO3do6gQEE-8"
      },
      "source": [
        "If we want to predict `y` without knowledge of `x`, what value would be predict? The <font color=\"magenta\">mean</font> value of `y`.\n",
        "\n",
        "In this case, the mean squared error (MSE) associated with the prediction is simply the variance of `y`."
      ]
    },
    {
      "cell_type": "code",
      "execution_count": null,
      "metadata": {
        "colab": {
          "base_uri": "https://localhost:8080/"
        },
        "id": "LgcP37VAEE-9",
        "outputId": "271b543f-9f02-4e70-bf12-69e99df83b51"
      },
      "outputs": [
        {
          "output_type": "stream",
          "name": "stdout",
          "text": [
            "Prediction:  152.13348416289594\n",
            "Mean squared error:  5929.884896910383\n"
          ]
        }
      ],
      "source": [
        "print(\"Prediction: \", np.mean(y))\n",
        "print(\"Mean squared error: \", np.var(y))"
      ]
    },
    {
      "cell_type": "markdown",
      "metadata": {
        "id": "SgjNuocIEE-9"
      },
      "source": [
        "## 3. Predict `y` using a single feature of `x`"
      ]
    },
    {
      "cell_type": "markdown",
      "metadata": {
        "id": "N1Tq2tQPEE--"
      },
      "source": [
        "To fit a linear regression model, we could directly use the formula we saw in lecture. To make things even easier, this is already implemented in `sklearn.linear_model.LinearRegression()`."
      ]
    },
    {
      "cell_type": "markdown",
      "metadata": {
        "id": "ZrSk6CAkEE--"
      },
      "source": [
        "Here we define a function, **one_feature_regression**, that takes `x` and `y`, along with the index `f` of a single feature and fits a linear regressor to `(x[f],y)`. It then plots the data along with the resulting line."
      ]
    },
    {
      "cell_type": "code",
      "execution_count": null,
      "metadata": {
        "id": "GVGWaEk0EE_B"
      },
      "outputs": [],
      "source": [
        "def one_feature_regression(x,y,f):\n",
        "    if (f < 0) or (f > 9):\n",
        "        print(\"Feature index is out of bounds\")\n",
        "        return\n",
        "    regr = linear_model.LinearRegression()\n",
        "    x1 = x[:,[f]]\n",
        "    regr.fit(x1, y)\n",
        "    # Make predictions using the model\n",
        "    y_pred = regr.predict(x1)\n",
        "    # Plot data points as well as predictions\n",
        "    plt.plot(x1, y, 'bo')\n",
        "    plt.plot(x1, y_pred, 'r-', linewidth=3)\n",
        "    plt.xlabel(features[f], fontsize=14)\n",
        "    plt.ylabel('Progression of disease', fontsize=14)\n",
        "    return regr,mean_squared_error(y, y_pred)"
      ]
    },
    {
      "cell_type": "markdown",
      "metadata": {
        "id": "j3CjPJCxEE_C"
      },
      "source": [
        "Let's try this with feature #2 (body mass index)."
      ]
    },
    {
      "cell_type": "code",
      "execution_count": null,
      "metadata": {
        "colab": {
          "base_uri": "https://localhost:8080/",
          "height": 341
        },
        "id": "iY1WNBv9EE_C",
        "outputId": "a24ea49a-4fbc-4432-92f9-fd637d69ce9a"
      },
      "outputs": [
        {
          "output_type": "display_data",
          "data": {
            "text/plain": [
              "<Figure size 432x288 with 1 Axes>"
            ],
            "image/png": "[encoded data removed]"
          },
          "metadata": {
            "needs_background": "light"
          }
        },
        {
          "output_type": "stream",
          "name": "stdout",
          "text": [
            "Mean squared error:  3890.456585461273\n",
            "w =  [10.23312787]\n",
            "b =  -117.77336656656527\n"
          ]
        }
      ],
      "source": [
        "regr = one_feature_regression(x,y,2)\n",
        "print(\"w = \", regr.coef_)\n",
        "print(\"b = \", regr.intercept_)"
      ]
    },
    {
      "cell_type": "markdown",
      "metadata": {
        "id": "Zfg2bMVdEE_C"
      },
      "source": [
        "<font color=\"magenta\">For you to try:</font> Feature #2 ('body mass index') is the single feature that yields the lowest mean squared error. Which feature is the second best? "
      ]
    },
    {
      "cell_type": "code",
      "execution_count": null,
      "metadata": {
        "colab": {
          "base_uri": "https://localhost:8080/",
          "height": 466
        },
        "id": "GVUTuRWEEE_F",
        "outputId": "29b0f072-4b66-463f-aea9-6961d68ef732"
      },
      "outputs": [
        {
          "output_type": "stream",
          "name": "stdout",
          "text": [
            "This feature 0 has an mse5720.547017205647\n",
            "This feature 1 has an mse5918.888899586022\n",
            "This feature 2 has an mse3890.456585461273\n",
            "This feature 3 has an mse4774.113902368687\n",
            "This feature 4 has an mse5663.315623739354\n",
            "This feature 5 has an mse5750.241102677781\n",
            "This feature 6 has an mse5005.661620710652\n",
            "This feature 7 has an mse4831.13838643409\n",
            "This feature 8 has an mse4030.998722591287\n",
            "This feature 9 has an mse5062.380594520543\n"
          ]
        },
        {
          "output_type": "display_data",
          "data": {
            "text/plain": [
              "<Figure size 432x288 with 1 Axes>"
            ],
            "image/png": "[encoded data removed]"
          },
          "metadata": {
            "needs_background": "light"
          }
        }
      ],
      "source": [
        "### You can use this space to figure out the second-best feature\n",
        "for a in range(10):\n",
        "  cx,mse=one_feature_regression(x,y,a)\n",
        "  print(f\"This feature {a} has an mse{mse}\")\n",
        "\n"
      ]
    },
    {
      "cell_type": "markdown",
      "metadata": {
        "id": "vPW2tqnbEE_F"
      },
      "source": [
        "## 3. Predict `y` using a specified subset of features from `x`"
      ]
    },
    {
      "cell_type": "markdown",
      "metadata": {
        "id": "o-93wcfPEE_F"
      },
      "source": [
        "The function **feature_subset_regression** is just like **one_feature_regression**, but this time uses a list of features `flist`."
      ]
    },
    {
      "cell_type": "code",
      "execution_count": null,
      "metadata": {
        "id": "Eb3dffrCEE_G"
      },
      "outputs": [],
      "source": [
        "def feature_subset_regression(x,y,flist):\n",
        "    if len(flist) < 1:\n",
        "        print(\"Need at least one feature\")\n",
        "        return\n",
        "    for f in flist:\n",
        "        if (f < 0) or (f > 9):\n",
        "            print(\"Feature index is out of bounds\")\n",
        "            return\n",
        "    regr = linear_model.LinearRegression()\n",
        "    regr.fit(x[:,flist], y)\n",
        "    return regr"
      ]
    },
    {
      "cell_type": "markdown",
      "metadata": {
        "id": "mA9v4TCTEFAl"
      },
      "source": [
        "Try using just features #2 (body mass index) and #8 (serum5)."
      ]
    },
    {
      "cell_type": "code",
      "execution_count": null,
      "metadata": {
        "colab": {
          "base_uri": "https://localhost:8080/"
        },
        "id": "TMbFrUEJEFAm",
        "outputId": "ff033ebe-d1f0-421a-86df-237621ec8211"
      },
      "outputs": [
        {
          "output_type": "stream",
          "name": "stdout",
          "text": [
            "w =  [ 7.27600054 56.05638703]\n",
            "b =  -299.95751508023613\n",
            "Mean squared error:  3205.190076824853\n"
          ]
        }
      ],
      "source": [
        "flist = [2,8]\n",
        "regr = feature_subset_regression(x,y,[2,8])\n",
        "print(\"w = \", regr.coef_)\n",
        "print(\"b = \", regr.intercept_)\n",
        "print(\"Mean squared error: \", mean_squared_error(y, regr.predict(x[:,flist])))"
      ]
    },
    {
      "cell_type": "markdown",
      "metadata": {
        "id": "hY9unzu0EFAm"
      },
      "source": [
        "Finally, use all 10 features."
      ]
    },
    {
      "cell_type": "code",
      "execution_count": null,
      "metadata": {
        "colab": {
          "base_uri": "https://localhost:8080/"
        },
        "id": "IM1XMljgEFAm",
        "outputId": "a40997a5-45b4-4f9a-b995-e3e7012d96a4"
      },
      "outputs": [
        {
          "output_type": "stream",
          "name": "stdout",
          "text": [
            "w =  [-3.63612242e-02 -2.28596481e+01  5.60296209e+00  1.11680799e+00\n",
            " -1.08999633e+00  7.46450456e-01  3.72004715e-01  6.53383194e+00\n",
            "  6.84831250e+01  2.80116989e-01]\n",
            "b =  -334.5671385187876\n",
            "Mean squared error:  2859.6963475867506\n"
          ]
        }
      ],
      "source": [
        "regr = feature_subset_regression(x,y,range(0,10))\n",
        "print(\"w = \", regr.coef_)\n",
        "print(\"b = \", regr.intercept_)\n",
        "print(\"Mean squared error: \", mean_squared_error(y, regr.predict(x)))"
      ]
    },
    {
      "cell_type": "markdown",
      "metadata": {
        "collapsed": true,
        "id": "0Tj6tqQoEFAo"
      },
      "source": [
        "## 4. Splitting the data into a training and test set"
      ]
    },
    {
      "cell_type": "markdown",
      "metadata": {
        "id": "oVl9tGKhEFAo"
      },
      "source": [
        "In the experiments above, every model was fit to the *entire* data set and its mean squared error was evaluated on this same data set. This methodology would not, in general, yield accurate estimates of future error. In this specific case, however, the discrepancy might not be too bad because the data set is quite large relative to the number of features."
      ]
    },
    {
      "cell_type": "markdown",
      "metadata": {
        "id": "XGuDFBKoEFAo"
      },
      "source": [
        "To investigate this further, we define a procedure **split_data** that partitions the data set into separate training and test sets. It is invoked as follows:\n",
        "\n",
        "* `trainx, trainy, testx, testy = split_data(n_train)`\n",
        "\n",
        "Here:\n",
        "* `n_train` is the desired number of training points\n",
        "* `trainx` and `trainy` are the training points and response values\n",
        "* `testx` and `testy` are the test points and response values\n",
        "\n",
        "The split is done randomly, but the random seed is fixed, and thus the same split is produced if the procedure is called repeatedly with the same `n_train` parameter."
      ]
    },
    {
      "cell_type": "code",
      "execution_count": null,
      "metadata": {
        "id": "RhLSGU8zEFAp"
      },
      "outputs": [],
      "source": [
        "def split_data(n_train):\n",
        "    if (n_train < 0) or (n_train > 442):\n",
        "        print(\"Invalid number of training points\")\n",
        "        return\n",
        "    np.random.seed(0)\n",
        "    perm = np.random.permutation(442)\n",
        "    training_indices = perm[range(0,n_train)]\n",
        "    test_indices = perm[range(n_train,442)]\n",
        "    trainx = x[training_indices,:]\n",
        "    trainy = y[training_indices]\n",
        "    testx = x[test_indices,:]\n",
        "    testy = y[test_indices]\n",
        "    return trainx, trainy, testx, testy"
      ]
    },
    {
      "cell_type": "markdown",
      "metadata": {
        "id": "lOoEucqjEFAr"
      },
      "source": [
        "**<font color=\"magenta\">For you to do:</font>** Using the **split_data** procedure to partition the data set, compute the training MSE and test MSE when fitting a regressor to *all* features, for the following training set sizes:\n",
        "* `n_train = 20`\n",
        "* `n_train = 50`\n",
        "* `n_train = 100`\n",
        "* `n_train = 200`"
      ]
    },
    {
      "cell_type": "code",
      "source": [
        "trainx, trainy, testx, testy=split_data(100);"
      ],
      "metadata": {
        "id": "W6cuuciAGHCg"
      },
      "execution_count": null,
      "outputs": []
    },
    {
      "cell_type": "code",
      "source": [
        "regr = feature_subset_regression(trainx,trainy,range(0,10))\n",
        "print(\"w = \", regr.coef_)\n",
        "print(\"b = \", regr.intercept_)\n",
        "print(\"Mean squared error: \", mean_squared_error(trainy, regr.predict(trainx)))\n",
        "print(\"Mean squared error: \", mean_squared_error(testy, regr.predict(testx)))"
      ],
      "metadata": {
        "colab": {
          "base_uri": "https://localhost:8080/"
        },
        "id": "Acw7GDEuFy-t",
        "outputId": "4f416ef3-0f0b-49aa-dbb2-1193d255aa58"
      },
      "execution_count": null,
      "outputs": [
        {
          "output_type": "stream",
          "name": "stdout",
          "text": [
            "w =  [  0.39099018 -28.66050411   4.05085972   1.22344601  -4.22191751\n",
            "   4.11113931   3.38820921   4.5428632  123.23627829   0.70697801]\n",
            "b =  -553.8658953316235\n",
            "Mean squared error:  2883.778520121509\n",
            "Mean squared error:  3583.0085115303177\n"
          ]
        }
      ]
    },
    {
      "cell_type": "code",
      "source": [
        "train_mse=[]\n",
        "test_mse=[]\n",
        "for n in range(20,400,20):\n",
        "  trainx, trainy, testx, testy=split_data(n)\n",
        "  regr = feature_subset_regression(trainx,trainy,range(0,10))\n",
        "  train_mse.append(mean_squared_error(trainy, regr.predict(trainx)))\n",
        "  test_mse.append(mean_squared_error(testy, regr.predict(testx)))\n",
        "plt.plot(list(range(20,400,20)),train_mse,label=\"Training\")\n",
        "plt.plot(list(range(20,400,20)),test_mse,label=\"Testing\")\n",
        "plt.legend()\n",
        "plt.show()"
      ],
      "metadata": {
        "colab": {
          "base_uri": "https://localhost:8080/",
          "height": 273
        },
        "id": "-eoL6KsKGQbm",
        "outputId": "f71b812f-be88-4194-8c8e-677dcd665a4d"
      },
      "execution_count": null,
      "outputs": [
        {
          "output_type": "display_data",
          "data": {
            "text/plain": [
              "<Figure size 432x288 with 1 Axes>"
            ],
            "image/png": "[encoded data removed]"
          },
          "metadata": {
            "needs_background": "light"
          }
        }
      ]
    },
    {
      "cell_type": "code",
      "source": [],
      "metadata": {
        "id": "4yIDKpm3G4vP"
      },
      "execution_count": null,
      "outputs": []
    }
  ],
  "metadata": {
    "kernelspec": {
      "display_name": "Python 3",
      "language": "python",
      "name": "python3"
    },
    "language_info": {
      "codemirror_mode": {
        "name": "ipython",
        "version": 3
      },
      "file_extension": ".py",
      "mimetype": "text/x-python",
      "name": "python",
      "nbconvert_exporter": "python",
      "pygments_lexer": "ipython3",
      "version": "3.7.4"
    },
    "toc": {
      "colors": {
        "hover_highlight": "#DAA520",
        "navigate_num": "#000000",
        "navigate_text": "#333333",
        "running_highlight": "#FF0000",
        "selected_highlight": "#FFD700",
        "sidebar_border": "#EEEEEE",
        "wrapper_background": "#FFFFFF"
      },
      "moveMenuLeft": true,
      "nav_menu": {
        "height": "12px",
        "width": "252px"
      },
      "navigate_menu": true,
      "number_sections": false,
      "sideBar": true,
      "threshold": 4,
      "toc_cell": false,
      "toc_section_display": "block",
      "toc_window_display": false,
      "widenNotebook": false
    },
    "colab": {
      "provenance": [],
      "include_colab_link": true
    }
  },
  "nbformat": 4,
  "nbformat_minor": 0
}